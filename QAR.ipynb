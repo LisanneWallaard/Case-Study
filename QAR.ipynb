{
 "cells": [
  {
   "cell_type": "markdown",
   "id": "iKgQjJ6rnlxs",
   "metadata": {
    "id": "iKgQjJ6rnlxs"
   },
   "source": [
    "# Case Study"
   ]
  },
  {
   "cell_type": "code",
   "execution_count": 1,
   "id": "73ab4ca6-e453-42d6-b5ef-74e0085d219a",
   "metadata": {
    "id": "73ab4ca6-e453-42d6-b5ef-74e0085d219a"
   },
   "outputs": [],
   "source": [
    "import pandas as pd\n",
    "import numpy as np\n",
    "import urllib.request\n",
    "from io import StringIO\n",
    "import matplotlib.pyplot as plt\n",
    "import statsmodels.api as sm\n",
    "from statsmodels.tsa.api import VAR\n",
    "import statistics\n",
    "import scipy.stats as stats\n",
    "import matplotlib.dates as mdates\n",
    "from scipy.stats import norm\n",
    "\n",
    "import warnings\n",
    "pd.options.mode.chained_assignment = None\n",
    "warnings.filterwarnings(\"ignore\", message=\"An unsupported index was provided and will be ignored when e.g. forecasting.\")"
   ]
  },
  {
   "cell_type": "code",
   "execution_count": 2,
   "id": "bce7bd82-fd23-48c2-9475-344cb2f61c51",
   "metadata": {
    "id": "bce7bd82-fd23-48c2-9475-344cb2f61c51"
   },
   "outputs": [],
   "source": [
    "def import_data(link):\n",
    "  \"\"\" Imports the data from a certain url link\n",
    "\n",
    "    Args:\n",
    "        link (str): url to the data\n",
    "\n",
    "    \"\"\"\n",
    "  with urllib.request.urlopen(link) as response:\n",
    "      data = response.read().decode('utf-8')\n",
    "\n",
    "  data = data.split(\"\\n\")\n",
    "  data_list = []\n",
    "\n",
    "  for row in data[2:-1]:\n",
    "      row_list = list(filter(None, row.split(' ')))\n",
    "      row_list[1] = row_list[1].rstrip('\\r')\n",
    "      data_list.append({'Date': row_list[0], 'Value': row_list[1]})\n",
    "\n",
    "  df = pd.DataFrame(data_list)\n",
    "  df['Date'] = pd.to_datetime(df['Date'])\n",
    "  df['Value'] = df['Value'].astype(float)\n",
    "  return df"
   ]
  },
  {
   "cell_type": "code",
   "execution_count": 3,
   "id": "4ca3fe9f-7c4a-428b-906e-621dd261b76c",
   "metadata": {
    "colab": {
     "base_uri": "https://localhost:8080/",
     "height": 206
    },
    "id": "4ca3fe9f-7c4a-428b-906e-621dd261b76c",
    "outputId": "dc7f824a-a400-4f25-f21c-6eeae290aa3e"
   },
   "outputs": [],
   "source": [
    "df = import_data('https://hadleyserver.metoffice.gov.uk/hadcet/data/meantemp_daily_totals.txt')"
   ]
  },
  {
   "cell_type": "code",
   "execution_count": 4,
   "id": "vQpJFepbnvQC",
   "metadata": {
    "id": "vQpJFepbnvQC"
   },
   "outputs": [],
   "source": [
    "def delete_leap_year(df):\n",
    "  \"\"\" Deletes leap years from the data frame\n",
    "\n",
    "    Args:\n",
    "        df (pd.DataFrame): data frame with leap years\n",
    "\n",
    "    Returns:\n",
    "        pd.DataFrame: df without the day 02-29\n",
    "\n",
    "    \"\"\"\n",
    "  df['Day'] = df['Date'].dt.day\n",
    "  df['Month'] = df['Date'].dt.month\n",
    "  df = df[~((df['Month'] == 2) & (df['Day'] == 29))]\n",
    "  df.drop(columns=['Day', 'Month'], inplace=True)\n",
    "  df.reset_index(drop=True, inplace=True)\n",
    "  return df"
   ]
  },
  {
   "cell_type": "code",
   "execution_count": 5,
   "id": "LG9bF61jn0lk",
   "metadata": {
    "id": "LG9bF61jn0lk"
   },
   "outputs": [],
   "source": [
    "df = delete_leap_year(df)\n",
    "for i in df['Date']:\n",
    "    if '-02-29' in str(i):\n",
    "        print(i)"
   ]
  },
  {
   "cell_type": "markdown",
   "id": "wp948oHYoAC7",
   "metadata": {
    "id": "wp948oHYoAC7"
   },
   "source": [
    "### H matrix"
   ]
  },
  {
   "cell_type": "code",
   "execution_count": 6,
   "id": "1J9CsPrgEQah",
   "metadata": {
    "id": "1J9CsPrgEQah"
   },
   "outputs": [],
   "source": [
    "def fill_matrix(df, year, day, w):\n",
    "    \"\"\" Fill the matrix with ones for a specic day in a year given a certain window\n",
    "\n",
    "    Args:\n",
    "        df (pd.DataFrame): contains the matrix with zeros and ones\n",
    "        year (int): the year for for which we want to fill the days with ones\n",
    "        day (str): the day around we want to fill the days with ones\n",
    "        w (int): the window indicates how many days we want to fill with ones\n",
    "    \"\"\"\n",
    "\n",
    "    day_ind = df.columns.get_loc(day)\n",
    "\n",
    "    # Loop throught the window\n",
    "    for i in range(0, int(w/2)):\n",
    "        ind_bef = day_ind - i\n",
    "        ind_aft = day_ind + i\n",
    "\n",
    "        # Handle if days exceeds year\n",
    "        if ind_aft >= len(df.columns):\n",
    "            year_aft = year + 1\n",
    "            df.loc[year_aft, df.columns[ind_aft - len(df.columns)]] = 1\n",
    "        # Set to 1 for days in given year\n",
    "        elif ind_aft < len(df.columns):\n",
    "          df.loc[year, df.columns[ind_aft]] = 1\n",
    "\n",
    "\n",
    "        # Handle if days deceeds year\n",
    "        if ind_bef < 0:\n",
    "            year_bef = year - 1\n",
    "            df.loc[year_bef, df.columns[ind_bef + len(df.columns)]] = 1\n",
    "        # Set to 1 for days in given year\n",
    "        elif ind_bef >= 0:\n",
    "          df.loc[year, df.columns[ind_bef]] = 1\n"
   ]
  },
  {
   "cell_type": "code",
   "execution_count": 7,
   "id": "gfnKpz9GA3hI",
   "metadata": {
    "id": "gfnKpz9GA3hI"
   },
   "outputs": [],
   "source": [
    "def get_matrix(first_year, last_year, day):\n",
    "    \"\"\" Create a matrix containing zeros and ones for a specific block around a\n",
    "    day within certain years\n",
    "\n",
    "    Args:\n",
    "        first_year (str): the first year for which we want to create a window of\n",
    "        ones\n",
    "        last_year (str): the last year for which we want to create a window of\n",
    "        ones\n",
    "        day (str): the day around we want to fill the days with ones\n",
    "\n",
    "    Returns:\n",
    "        pd.DataFrame: df containing zeros and ones for a specific date (note\n",
    "        that the df contains an extra year before and after the last year)\n",
    "\n",
    "    \"\"\"\n",
    "\n",
    "    # Create a list containing all days of a non-leap year\n",
    "    days_in_year = pd.date_range(start=f'1/1/{2023}', end=f'12/31/{2023}', freq='D')\n",
    "\n",
    "    # Make a df with days as columns and years 1979-2021 as rows\n",
    "    df = pd.DataFrame(0, index=range(first_year-1, last_year+2), columns=[f'{date.day}-{date.month}' for date in days_in_year])\n",
    "\n",
    "    # Define window\n",
    "    w = 30\n",
    "\n",
    "    # Loop through the years and fill matrix with 1 ones around a specific date given a window w\n",
    "    for year in range(first_year, last_year + 1):\n",
    "        fill_matrix(df, year, day,w)\n",
    "\n",
    "    return df"
   ]
  },
  {
   "cell_type": "code",
   "execution_count": 8,
   "id": "rvngyfm-wyYt",
   "metadata": {
    "id": "rvngyfm-wyYt"
   },
   "outputs": [],
   "source": [
    "def get_subset_df(df, first_year, last_year):\n",
    "    \"\"\" Create a subset of a dataframe given certain years\n",
    "\n",
    "    Args:\n",
    "        first_year (str): the first year included in the subset\n",
    "        last_year (str): the last year included in the subset\n",
    "        df (pd.DataFrame): df from which we want the subset\n",
    "\n",
    "    Returns:\n",
    "        pd.DataFrame: df containing the subset\n",
    "\n",
    "    \"\"\"\n",
    "\n",
    "    subset = df[(df['Date'] >= str(first_year)) & (df['Date'] < str(last_year+1))]\n",
    "\n",
    "    chunk_size = 365\n",
    "    chunks = [subset[i:i+chunk_size] for i in range(0, len(subset), chunk_size)]\n",
    "\n",
    "    df_subset = pd.DataFrame()\n",
    "\n",
    "    for year in range(0,(last_year-first_year+1)):\n",
    "        value_series = chunks[year]['Value'].reset_index(drop=True)\n",
    "        columns = []\n",
    "\n",
    "        for day in range(0, 365):\n",
    "            value_for_day = value_series[day]\n",
    "            column_series = pd.Series(value_for_day)\n",
    "            columns.append(column_series)\n",
    "\n",
    "        df_1_year = pd.concat(columns, axis=1)\n",
    "        df_subset = pd.concat([df_subset, df_1_year], ignore_index=True)\n",
    "\n",
    "    days_in_year = pd.date_range(start=f'1/1/{2023}', end=f'12/31/{2023}', freq='D')\n",
    "    df_subset.columns = [f'{date.day}-{date.month}' for date in days_in_year]\n",
    "    df_subset.index = range(first_year, last_year+1)\n",
    "    return df_subset"
   ]
  },
  {
   "cell_type": "markdown",
   "id": "6540cccb-5238-465f-8d3d-9c9bb238ea11",
   "metadata": {},
   "source": [
    "# Hi Lis!!! Hieronder vind je het nieuwe model "
   ]
  },
  {
   "cell_type": "code",
   "execution_count": 9,
   "id": "d1898f78-387c-4d1e-b7da-254f38d26893",
   "metadata": {},
   "outputs": [],
   "source": [
    "from scipy.optimize import minimize"
   ]
  },
  {
   "cell_type": "code",
   "execution_count": 10,
   "id": "dbbd4119-0f74-4f56-96cc-8052b510ec8b",
   "metadata": {},
   "outputs": [],
   "source": [
    "def compute_QAR_residuals(params):\n",
    "    alpha = params[0]\n",
    "    phi = params[1]\n",
    "    q = 0.95\n",
    "    \n",
    "    y = df_subset.values * h.values\n",
    "    y_min1 = np.roll(y, shift=(0, 1), axis=(1, 1))\n",
    "    \n",
    "    I = np.where(h * (y - alpha - phi * y_min1) < 0, 1, 0)\n",
    "    \n",
    "    residuals = h * (y - alpha - phi * y_min1) * (q - I)\n",
    "    \n",
    "    return residuals.sum().sum()"
   ]
  },
  {
   "cell_type": "code",
   "execution_count": null,
   "id": "74cd4501-bfd7-4869-85b0-c87db6a9664c",
   "metadata": {},
   "outputs": [
    {
     "name": "stdout",
     "output_type": "stream",
     "text": [
      "Finished computing date: 7-1\r"
     ]
    }
   ],
   "source": [
    "first_year = 1980\n",
    "last_year = 2020\n",
    "\n",
    "error_list = []\n",
    "alpha_list = []\n",
    "phi_list = []\n",
    "\n",
    "df_subset = get_subset_df(df, first_year-1, last_year+1)\n",
    "\n",
    "for date in pd.date_range(start='1/1/2023', end='12/31/2023', freq='D'):\n",
    "    h = get_matrix(first_year, last_year, f'{date.day}-{date.month}')\n",
    "\n",
    "    result = minimize(compute_QAR_residuals, [2, 0.68]) # Dit is de initiële params guess\n",
    "\n",
    "    error_list.append(result.fun)\n",
    "    alpha_list.append(result.x[0])\n",
    "    phi_list.append(result.x[1])\n",
    "    \n",
    "    print(f'Finished computing date: {date.day}-{date.month}', end='\\r')"
   ]
  },
  {
   "cell_type": "code",
   "execution_count": null,
   "id": "ae5aa8e5-c17f-4380-a8b3-7910aa7295d7",
   "metadata": {},
   "outputs": [],
   "source": [
    "total_error = sum(error_list)\n",
    "total_error"
   ]
  },
  {
   "cell_type": "code",
   "execution_count": null,
   "id": "3ffcb37b-1fec-437f-96a5-24bbe2a2ec2f",
   "metadata": {},
   "outputs": [],
   "source": [
    "phi_df = pd.DataFrame()\n",
    "phi_df['Date'] = pd.date_range(start=f'1/1/{2023}', end=f'12/31/{2023}', freq='D')\n",
    "phi_df['Mean'] = phi_list\n",
    "\n",
    "alpha_df = pd.DataFrame()\n",
    "alpha_df['Date'] = pd.date_range(start=f'1/1/{2023}', end=f'12/31/{2023}', freq='D')\n",
    "alpha_df['Mean'] = alpha_list"
   ]
  },
  {
   "cell_type": "code",
   "execution_count": null,
   "id": "75bfc7b8-7739-4a57-8cb0-237359dcbf06",
   "metadata": {},
   "outputs": [],
   "source": [
    "fig, (ax1, ax2) = plt.subplots(1, 2, figsize=(16, 4))\n",
    "\n",
    "ax1.plot(phi_df['Date'], phi_df['Mean'], label='ϕ', linestyle='-', color='black', linewidth=1)\n",
    "ax1.xaxis.set_major_formatter(mdates.DateFormatter('%b'))\n",
    "ax1.xaxis.set_major_locator(mdates.MonthLocator())\n",
    "ax1.set_xlim(phi_df['Date'].min(), phi_df['Date'].max())\n",
    "ax1.set_title('Estimation results for QAR(1) parameter ϕt')\n",
    "ax1.set_xlabel('Month')\n",
    "ax1.set_ylabel('ϕ-value')\n",
    "ax1.legend()\n",
    "\n",
    "ax2.plot(alpha_df['Date'], alpha_df['Mean'], label='α', linestyle='-', color='black', linewidth=1)\n",
    "ax2.xaxis.set_major_formatter(mdates.DateFormatter('%b'))\n",
    "ax2.xaxis.set_major_locator(mdates.MonthLocator())\n",
    "ax2.set_xlim(alpha_df['Date'].min(), alpha_df['Date'].max())\n",
    "ax2.set_title('Estimation results for QAR(1) parameter αt')\n",
    "ax2.set_xlabel('Month')\n",
    "ax2.set_ylabel('α-value')\n",
    "ax2.legend()\n",
    "\n",
    "plt.tight_layout()\n",
    "plt.show()"
   ]
  }
 ],
 "metadata": {
  "colab": {
   "provenance": []
  },
  "kernelspec": {
   "display_name": "Python 3 (ipykernel)",
   "language": "python",
   "name": "python3"
  },
  "language_info": {
   "codemirror_mode": {
    "name": "ipython",
    "version": 3
   },
   "file_extension": ".py",
   "mimetype": "text/x-python",
   "name": "python",
   "nbconvert_exporter": "python",
   "pygments_lexer": "ipython3",
   "version": "3.11.5"
  }
 },
 "nbformat": 4,
 "nbformat_minor": 5
}
