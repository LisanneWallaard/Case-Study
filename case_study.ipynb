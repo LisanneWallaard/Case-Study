{
 "cells": [
  {
   "cell_type": "code",
   "execution_count": 1,
   "id": "73ab4ca6-e453-42d6-b5ef-74e0085d219a",
   "metadata": {},
   "outputs": [],
   "source": [
    "import pandas as pd\n",
    "import numpy as np\n",
    "import urllib.request\n",
    "from io import StringIO\n",
    "import matplotlib.pyplot as plt\n",
    "import statsmodels.api as sm\n",
    "from statsmodels.tsa.api import VAR\n",
    "import statistics\n",
    "\n",
    "import warnings\n",
    "pd.options.mode.chained_assignment = None \n",
    "warnings.filterwarnings(\"ignore\", message=\"An unsupported index was provided and will be ignored when e.g. forecasting.\")"
   ]
  },
  {
   "cell_type": "code",
   "execution_count": 2,
   "id": "bce7bd82-fd23-48c2-9475-344cb2f61c51",
   "metadata": {},
   "outputs": [],
   "source": [
    "with urllib.request.urlopen(\"https://hadleyserver.metoffice.gov.uk/hadcet/data/meantemp_daily_totals.txt\") as response:\n",
    "    data = response.read().decode('utf-8') \n",
    "\n",
    "data = data.split(\"\\n\")"
   ]
  },
  {
   "cell_type": "code",
   "execution_count": 3,
   "id": "dc336d6f-24cb-4642-9607-6f8b72b2b972",
   "metadata": {},
   "outputs": [],
   "source": [
    "data_list = []\n",
    "\n",
    "for row in data[2:-1]:\n",
    "    row_list = list(filter(None, row.split(' ')))\n",
    "    row_list[1] = row_list[1].rstrip('\\r')\n",
    "    data_list.append({'Date': row_list[0], 'Value': row_list[1]})\n",
    "\n",
    "df = pd.DataFrame(data_list)"
   ]
  },
  {
   "cell_type": "code",
   "execution_count": 4,
   "id": "4ca3fe9f-7c4a-428b-906e-621dd261b76c",
   "metadata": {},
   "outputs": [
    {
     "data": {
      "text/html": [
       "<div>\n",
       "<style scoped>\n",
       "    .dataframe tbody tr th:only-of-type {\n",
       "        vertical-align: middle;\n",
       "    }\n",
       "\n",
       "    .dataframe tbody tr th {\n",
       "        vertical-align: top;\n",
       "    }\n",
       "\n",
       "    .dataframe thead th {\n",
       "        text-align: right;\n",
       "    }\n",
       "</style>\n",
       "<table border=\"1\" class=\"dataframe\">\n",
       "  <thead>\n",
       "    <tr style=\"text-align: right;\">\n",
       "      <th></th>\n",
       "      <th>Date</th>\n",
       "      <th>Value</th>\n",
       "    </tr>\n",
       "  </thead>\n",
       "  <tbody>\n",
       "    <tr>\n",
       "      <th>0</th>\n",
       "      <td>1772-01-01</td>\n",
       "      <td>3.2</td>\n",
       "    </tr>\n",
       "    <tr>\n",
       "      <th>1</th>\n",
       "      <td>1772-01-02</td>\n",
       "      <td>2.0</td>\n",
       "    </tr>\n",
       "    <tr>\n",
       "      <th>2</th>\n",
       "      <td>1772-01-03</td>\n",
       "      <td>2.7</td>\n",
       "    </tr>\n",
       "    <tr>\n",
       "      <th>3</th>\n",
       "      <td>1772-01-04</td>\n",
       "      <td>2.7</td>\n",
       "    </tr>\n",
       "    <tr>\n",
       "      <th>4</th>\n",
       "      <td>1772-01-05</td>\n",
       "      <td>1.5</td>\n",
       "    </tr>\n",
       "  </tbody>\n",
       "</table>\n",
       "</div>"
      ],
      "text/plain": [
       "         Date Value\n",
       "0  1772-01-01   3.2\n",
       "1  1772-01-02   2.0\n",
       "2  1772-01-03   2.7\n",
       "3  1772-01-04   2.7\n",
       "4  1772-01-05   1.5"
      ]
     },
     "execution_count": 4,
     "metadata": {},
     "output_type": "execute_result"
    }
   ],
   "source": [
    "df.head()"
   ]
  },
  {
   "cell_type": "code",
   "execution_count": 5,
   "id": "5169080b-1636-4db6-bdf1-f125b9e69f14",
   "metadata": {},
   "outputs": [],
   "source": [
    "df['Date'] = pd.to_datetime(df['Date'])\n",
    "df['Value'] = df['Value'].astype(float)"
   ]
  },
  {
   "cell_type": "code",
   "execution_count": 6,
   "id": "0d3023ce-63b9-4ef5-b25e-a756be69b065",
   "metadata": {},
   "outputs": [],
   "source": [
    "df_1980_2020 = df[(df['Date'] >= '1980') & (df['Date'] < '2021')]"
   ]
  },
  {
   "cell_type": "code",
   "execution_count": 7,
   "id": "c4500625-db35-4d0d-b18e-1f9a3f3fbfc3",
   "metadata": {},
   "outputs": [
    {
     "data": {
      "text/html": [
       "<div>\n",
       "<style scoped>\n",
       "    .dataframe tbody tr th:only-of-type {\n",
       "        vertical-align: middle;\n",
       "    }\n",
       "\n",
       "    .dataframe tbody tr th {\n",
       "        vertical-align: top;\n",
       "    }\n",
       "\n",
       "    .dataframe thead th {\n",
       "        text-align: right;\n",
       "    }\n",
       "</style>\n",
       "<table border=\"1\" class=\"dataframe\">\n",
       "  <thead>\n",
       "    <tr style=\"text-align: right;\">\n",
       "      <th></th>\n",
       "      <th>Date</th>\n",
       "      <th>Value</th>\n",
       "    </tr>\n",
       "  </thead>\n",
       "  <tbody>\n",
       "    <tr>\n",
       "      <th>75970</th>\n",
       "      <td>1980-01-01</td>\n",
       "      <td>-1.3</td>\n",
       "    </tr>\n",
       "    <tr>\n",
       "      <th>75971</th>\n",
       "      <td>1980-01-02</td>\n",
       "      <td>-1.8</td>\n",
       "    </tr>\n",
       "    <tr>\n",
       "      <th>75972</th>\n",
       "      <td>1980-01-03</td>\n",
       "      <td>2.4</td>\n",
       "    </tr>\n",
       "    <tr>\n",
       "      <th>75973</th>\n",
       "      <td>1980-01-04</td>\n",
       "      <td>4.5</td>\n",
       "    </tr>\n",
       "    <tr>\n",
       "      <th>75974</th>\n",
       "      <td>1980-01-05</td>\n",
       "      <td>4.9</td>\n",
       "    </tr>\n",
       "    <tr>\n",
       "      <th>...</th>\n",
       "      <td>...</td>\n",
       "      <td>...</td>\n",
       "    </tr>\n",
       "    <tr>\n",
       "      <th>90941</th>\n",
       "      <td>2020-12-27</td>\n",
       "      <td>4.5</td>\n",
       "    </tr>\n",
       "    <tr>\n",
       "      <th>90942</th>\n",
       "      <td>2020-12-28</td>\n",
       "      <td>1.0</td>\n",
       "    </tr>\n",
       "    <tr>\n",
       "      <th>90943</th>\n",
       "      <td>2020-12-29</td>\n",
       "      <td>0.9</td>\n",
       "    </tr>\n",
       "    <tr>\n",
       "      <th>90944</th>\n",
       "      <td>2020-12-30</td>\n",
       "      <td>1.0</td>\n",
       "    </tr>\n",
       "    <tr>\n",
       "      <th>90945</th>\n",
       "      <td>2020-12-31</td>\n",
       "      <td>-1.3</td>\n",
       "    </tr>\n",
       "  </tbody>\n",
       "</table>\n",
       "<p>14976 rows × 2 columns</p>\n",
       "</div>"
      ],
      "text/plain": [
       "            Date  Value\n",
       "75970 1980-01-01   -1.3\n",
       "75971 1980-01-02   -1.8\n",
       "75972 1980-01-03    2.4\n",
       "75973 1980-01-04    4.5\n",
       "75974 1980-01-05    4.9\n",
       "...          ...    ...\n",
       "90941 2020-12-27    4.5\n",
       "90942 2020-12-28    1.0\n",
       "90943 2020-12-29    0.9\n",
       "90944 2020-12-30    1.0\n",
       "90945 2020-12-31   -1.3\n",
       "\n",
       "[14976 rows x 2 columns]"
      ]
     },
     "execution_count": 7,
     "metadata": {},
     "output_type": "execute_result"
    }
   ],
   "source": [
    "df_1980_2020"
   ]
  },
  {
   "cell_type": "code",
   "execution_count": 8,
   "id": "8b38c536-675d-4c01-a0f7-97d9d928204e",
   "metadata": {},
   "outputs": [
    {
     "data": {
      "text/html": [
       "<div>\n",
       "<style scoped>\n",
       "    .dataframe tbody tr th:only-of-type {\n",
       "        vertical-align: middle;\n",
       "    }\n",
       "\n",
       "    .dataframe tbody tr th {\n",
       "        vertical-align: top;\n",
       "    }\n",
       "\n",
       "    .dataframe thead th {\n",
       "        text-align: right;\n",
       "    }\n",
       "</style>\n",
       "<table border=\"1\" class=\"dataframe\">\n",
       "  <thead>\n",
       "    <tr style=\"text-align: right;\">\n",
       "      <th></th>\n",
       "      <th>Year</th>\n",
       "      <th>Value</th>\n",
       "    </tr>\n",
       "  </thead>\n",
       "  <tbody>\n",
       "    <tr>\n",
       "      <th>0</th>\n",
       "      <td>1980</td>\n",
       "      <td>9.353825</td>\n",
       "    </tr>\n",
       "    <tr>\n",
       "      <th>1</th>\n",
       "      <td>1981</td>\n",
       "      <td>9.188493</td>\n",
       "    </tr>\n",
       "    <tr>\n",
       "      <th>2</th>\n",
       "      <td>1982</td>\n",
       "      <td>9.782192</td>\n",
       "    </tr>\n",
       "    <tr>\n",
       "      <th>3</th>\n",
       "      <td>1983</td>\n",
       "      <td>10.054795</td>\n",
       "    </tr>\n",
       "    <tr>\n",
       "      <th>4</th>\n",
       "      <td>1984</td>\n",
       "      <td>9.718033</td>\n",
       "    </tr>\n",
       "  </tbody>\n",
       "</table>\n",
       "</div>"
      ],
      "text/plain": [
       "   Year      Value\n",
       "0  1980   9.353825\n",
       "1  1981   9.188493\n",
       "2  1982   9.782192\n",
       "3  1983  10.054795\n",
       "4  1984   9.718033"
      ]
     },
     "execution_count": 8,
     "metadata": {},
     "output_type": "execute_result"
    }
   ],
   "source": [
    "df_1980_2020['Year'] = df_1980_2020['Date'].dt.year\n",
    "mean_per_year = df_1980_2020.groupby('Year')['Value'].mean().reset_index()\n",
    "\n",
    "mean_per_year.head()"
   ]
  },
  {
   "cell_type": "code",
   "execution_count": 9,
   "id": "444a770f-7648-40d5-8c05-20b112cc31a1",
   "metadata": {},
   "outputs": [
    {
     "data": {
      "text/html": [
       "<div>\n",
       "<style scoped>\n",
       "    .dataframe tbody tr th:only-of-type {\n",
       "        vertical-align: middle;\n",
       "    }\n",
       "\n",
       "    .dataframe tbody tr th {\n",
       "        vertical-align: top;\n",
       "    }\n",
       "\n",
       "    .dataframe thead th {\n",
       "        text-align: right;\n",
       "    }\n",
       "</style>\n",
       "<table border=\"1\" class=\"dataframe\">\n",
       "  <thead>\n",
       "    <tr style=\"text-align: right;\">\n",
       "      <th></th>\n",
       "      <th>Month</th>\n",
       "      <th>Day</th>\n",
       "      <th>Value</th>\n",
       "    </tr>\n",
       "  </thead>\n",
       "  <tbody>\n",
       "    <tr>\n",
       "      <th>0</th>\n",
       "      <td>1</td>\n",
       "      <td>1</td>\n",
       "      <td>4.787805</td>\n",
       "    </tr>\n",
       "    <tr>\n",
       "      <th>1</th>\n",
       "      <td>1</td>\n",
       "      <td>2</td>\n",
       "      <td>4.604878</td>\n",
       "    </tr>\n",
       "    <tr>\n",
       "      <th>2</th>\n",
       "      <td>1</td>\n",
       "      <td>3</td>\n",
       "      <td>4.390244</td>\n",
       "    </tr>\n",
       "    <tr>\n",
       "      <th>3</th>\n",
       "      <td>1</td>\n",
       "      <td>4</td>\n",
       "      <td>4.431707</td>\n",
       "    </tr>\n",
       "    <tr>\n",
       "      <th>4</th>\n",
       "      <td>1</td>\n",
       "      <td>5</td>\n",
       "      <td>4.741463</td>\n",
       "    </tr>\n",
       "  </tbody>\n",
       "</table>\n",
       "</div>"
      ],
      "text/plain": [
       "   Month  Day     Value\n",
       "0      1    1  4.787805\n",
       "1      1    2  4.604878\n",
       "2      1    3  4.390244\n",
       "3      1    4  4.431707\n",
       "4      1    5  4.741463"
      ]
     },
     "execution_count": 9,
     "metadata": {},
     "output_type": "execute_result"
    }
   ],
   "source": [
    "df_1980_2020['Day'] = df_1980_2020['Date'].dt.day\n",
    "df_1980_2020['Month'] = df_1980_2020['Date'].dt.month\n",
    "\n",
    "mean_by_day = df_1980_2020.groupby(['Month', 'Day'])['Value'].mean().reset_index()\n",
    "mean_by_day.head()"
   ]
  },
  {
   "cell_type": "code",
   "execution_count": 10,
   "id": "117449dd-742c-4cd9-b6dc-cf03e9f7d441",
   "metadata": {},
   "outputs": [
    {
     "data": {
      "image/png": "[encoded data removed]",
      "text/plain": [
       "<Figure size 800x400 with 1 Axes>"
      ]
     },
     "metadata": {},
     "output_type": "display_data"
    }
   ],
   "source": [
    "plt.figure(figsize=(8, 4))\n",
    "plt.plot(mean_by_day['Value'])\n",
    "plt.title('Average temperature per year')\n",
    "plt.xlabel('Day of the Year')\n",
    "plt.ylabel('Temperature')\n",
    "plt.show()"
   ]
  },
  {
   "cell_type": "code",
   "execution_count": 11,
   "id": "1876d632-77cc-4e57-97cf-dab4f93a762e",
   "metadata": {},
   "outputs": [],
   "source": [
    "df['Day'] = df['Date'].dt.day\n",
    "df['Month'] = df['Date'].dt.month\n",
    "df = df[~((df['Month'] == 2) & (df['Day'] == 29))]\n",
    "df.drop(columns=['Day', 'Month'], inplace=True)\n",
    "df.reset_index(drop=True, inplace=True)"
   ]
  },
  {
   "cell_type": "code",
   "execution_count": 12,
   "id": "5fcfd6e5-343f-43fa-b2e4-004cf4e80e39",
   "metadata": {},
   "outputs": [],
   "source": [
    "df['DayOfYear'] = df['Date'].dt.dayofyear\n",
    "days_of_year = {day: group for day, group in df.groupby('DayOfYear')}\n",
    "df.drop(columns=['DayOfYear'], inplace=True)"
   ]
  },
  {
   "cell_type": "code",
   "execution_count": 13,
   "id": "fe2f8275-a0f0-44e5-bf4f-1cf0c3e3d17b",
   "metadata": {},
   "outputs": [
    {
     "data": {
      "text/html": [
       "<div>\n",
       "<style scoped>\n",
       "    .dataframe tbody tr th:only-of-type {\n",
       "        vertical-align: middle;\n",
       "    }\n",
       "\n",
       "    .dataframe tbody tr th {\n",
       "        vertical-align: top;\n",
       "    }\n",
       "\n",
       "    .dataframe thead th {\n",
       "        text-align: right;\n",
       "    }\n",
       "</style>\n",
       "<table border=\"1\" class=\"dataframe\">\n",
       "  <thead>\n",
       "    <tr style=\"text-align: right;\">\n",
       "      <th></th>\n",
       "      <th>Date</th>\n",
       "      <th>Value</th>\n",
       "    </tr>\n",
       "  </thead>\n",
       "  <tbody>\n",
       "    <tr>\n",
       "      <th>77424</th>\n",
       "      <td>1984-02-14</td>\n",
       "      <td>1.3</td>\n",
       "    </tr>\n",
       "    <tr>\n",
       "      <th>77425</th>\n",
       "      <td>1984-02-15</td>\n",
       "      <td>-1.8</td>\n",
       "    </tr>\n",
       "    <tr>\n",
       "      <th>77426</th>\n",
       "      <td>1984-02-16</td>\n",
       "      <td>-0.8</td>\n",
       "    </tr>\n",
       "    <tr>\n",
       "      <th>77427</th>\n",
       "      <td>1984-02-17</td>\n",
       "      <td>1.9</td>\n",
       "    </tr>\n",
       "    <tr>\n",
       "      <th>77428</th>\n",
       "      <td>1984-02-18</td>\n",
       "      <td>2.7</td>\n",
       "    </tr>\n",
       "    <tr>\n",
       "      <th>77429</th>\n",
       "      <td>1984-02-19</td>\n",
       "      <td>0.3</td>\n",
       "    </tr>\n",
       "    <tr>\n",
       "      <th>77430</th>\n",
       "      <td>1984-02-20</td>\n",
       "      <td>1.3</td>\n",
       "    </tr>\n",
       "    <tr>\n",
       "      <th>77431</th>\n",
       "      <td>1984-02-21</td>\n",
       "      <td>3.1</td>\n",
       "    </tr>\n",
       "    <tr>\n",
       "      <th>77432</th>\n",
       "      <td>1984-02-22</td>\n",
       "      <td>4.7</td>\n",
       "    </tr>\n",
       "    <tr>\n",
       "      <th>77433</th>\n",
       "      <td>1984-02-23</td>\n",
       "      <td>3.2</td>\n",
       "    </tr>\n",
       "    <tr>\n",
       "      <th>77434</th>\n",
       "      <td>1984-02-24</td>\n",
       "      <td>2.5</td>\n",
       "    </tr>\n",
       "    <tr>\n",
       "      <th>77435</th>\n",
       "      <td>1984-02-25</td>\n",
       "      <td>1.5</td>\n",
       "    </tr>\n",
       "    <tr>\n",
       "      <th>77436</th>\n",
       "      <td>1984-02-26</td>\n",
       "      <td>1.8</td>\n",
       "    </tr>\n",
       "    <tr>\n",
       "      <th>77437</th>\n",
       "      <td>1984-02-27</td>\n",
       "      <td>2.5</td>\n",
       "    </tr>\n",
       "    <tr>\n",
       "      <th>77438</th>\n",
       "      <td>1984-02-28</td>\n",
       "      <td>3.3</td>\n",
       "    </tr>\n",
       "    <tr>\n",
       "      <th>77439</th>\n",
       "      <td>1984-03-01</td>\n",
       "      <td>6.3</td>\n",
       "    </tr>\n",
       "    <tr>\n",
       "      <th>77440</th>\n",
       "      <td>1984-03-02</td>\n",
       "      <td>3.5</td>\n",
       "    </tr>\n",
       "    <tr>\n",
       "      <th>77441</th>\n",
       "      <td>1984-03-03</td>\n",
       "      <td>4.1</td>\n",
       "    </tr>\n",
       "    <tr>\n",
       "      <th>77442</th>\n",
       "      <td>1984-03-04</td>\n",
       "      <td>5.4</td>\n",
       "    </tr>\n",
       "    <tr>\n",
       "      <th>77443</th>\n",
       "      <td>1984-03-05</td>\n",
       "      <td>7.7</td>\n",
       "    </tr>\n",
       "    <tr>\n",
       "      <th>77444</th>\n",
       "      <td>1984-03-06</td>\n",
       "      <td>8.6</td>\n",
       "    </tr>\n",
       "    <tr>\n",
       "      <th>77445</th>\n",
       "      <td>1984-03-07</td>\n",
       "      <td>7.1</td>\n",
       "    </tr>\n",
       "    <tr>\n",
       "      <th>77446</th>\n",
       "      <td>1984-03-08</td>\n",
       "      <td>4.2</td>\n",
       "    </tr>\n",
       "    <tr>\n",
       "      <th>77447</th>\n",
       "      <td>1984-03-09</td>\n",
       "      <td>4.1</td>\n",
       "    </tr>\n",
       "    <tr>\n",
       "      <th>77448</th>\n",
       "      <td>1984-03-10</td>\n",
       "      <td>5.0</td>\n",
       "    </tr>\n",
       "    <tr>\n",
       "      <th>77449</th>\n",
       "      <td>1984-03-11</td>\n",
       "      <td>6.0</td>\n",
       "    </tr>\n",
       "    <tr>\n",
       "      <th>77450</th>\n",
       "      <td>1984-03-12</td>\n",
       "      <td>5.3</td>\n",
       "    </tr>\n",
       "    <tr>\n",
       "      <th>77451</th>\n",
       "      <td>1984-03-13</td>\n",
       "      <td>3.5</td>\n",
       "    </tr>\n",
       "    <tr>\n",
       "      <th>77452</th>\n",
       "      <td>1984-03-14</td>\n",
       "      <td>4.5</td>\n",
       "    </tr>\n",
       "    <tr>\n",
       "      <th>77453</th>\n",
       "      <td>1984-03-15</td>\n",
       "      <td>2.5</td>\n",
       "    </tr>\n",
       "    <tr>\n",
       "      <th>77454</th>\n",
       "      <td>1984-03-16</td>\n",
       "      <td>2.7</td>\n",
       "    </tr>\n",
       "  </tbody>\n",
       "</table>\n",
       "</div>"
      ],
      "text/plain": [
       "            Date  Value\n",
       "77424 1984-02-14    1.3\n",
       "77425 1984-02-15   -1.8\n",
       "77426 1984-02-16   -0.8\n",
       "77427 1984-02-17    1.9\n",
       "77428 1984-02-18    2.7\n",
       "77429 1984-02-19    0.3\n",
       "77430 1984-02-20    1.3\n",
       "77431 1984-02-21    3.1\n",
       "77432 1984-02-22    4.7\n",
       "77433 1984-02-23    3.2\n",
       "77434 1984-02-24    2.5\n",
       "77435 1984-02-25    1.5\n",
       "77436 1984-02-26    1.8\n",
       "77437 1984-02-27    2.5\n",
       "77438 1984-02-28    3.3\n",
       "77439 1984-03-01    6.3\n",
       "77440 1984-03-02    3.5\n",
       "77441 1984-03-03    4.1\n",
       "77442 1984-03-04    5.4\n",
       "77443 1984-03-05    7.7\n",
       "77444 1984-03-06    8.6\n",
       "77445 1984-03-07    7.1\n",
       "77446 1984-03-08    4.2\n",
       "77447 1984-03-09    4.1\n",
       "77448 1984-03-10    5.0\n",
       "77449 1984-03-11    6.0\n",
       "77450 1984-03-12    5.3\n",
       "77451 1984-03-13    3.5\n",
       "77452 1984-03-14    4.5\n",
       "77453 1984-03-15    2.5\n",
       "77454 1984-03-16    2.7"
      ]
     },
     "execution_count": 13,
     "metadata": {},
     "output_type": "execute_result"
    }
   ],
   "source": [
    "def get_window(date):\n",
    "    index = df.index[df['Date'] == date][0]\n",
    "    # print('Date:', str(df['Date'][index])[:10]) # , end='\\r'\n",
    "    \n",
    "    start_window = str(df['Date'][index-15])[:10]\n",
    "    end_window = str(df['Date'][index+15])[:10]\n",
    "    ts_window = df[(df['Date'] >= start_window) & (df['Date'] <= end_window)]\n",
    "\n",
    "    return ts_window\n",
    "\n",
    "get_window('1984-03-01')"
   ]
  },
  {
   "cell_type": "code",
   "execution_count": 14,
   "id": "c53c2f96-8329-40b0-b492-4fa34b7e1ede",
   "metadata": {},
   "outputs": [
    {
     "name": "stdout",
     "output_type": "stream",
     "text": [
      "  Summary of Regression Results   \n",
      "==================================\n",
      "Model:                         VAR\n",
      "Method:                        OLS\n",
      "Date:           Wed, 10, Jan, 2024\n",
      "Time:                     17:59:24\n",
      "--------------------------------------------------------------------\n",
      "No. of Equations:         11.0000    BIC:                    13.6787\n",
      "Nobs:                     30.0000    HQIC:                   9.48572\n",
      "Log likelihood:          -448.951    FPE:                    3083.05\n",
      "AIC:                      7.51340    Det(Omega_mle):         76.1329\n",
      "--------------------------------------------------------------------\n",
      "Results for equation 1980-12-31\n",
      "================================================================================\n",
      "                   coefficient       std. error           t-stat            prob\n",
      "--------------------------------------------------------------------------------\n",
      "const                 2.684023         2.283013            1.176           0.240\n",
      "L1.1980-12-31         0.114813         0.236826            0.485           0.628\n",
      "L1.1984-12-31         0.334814         0.205356            1.630           0.103\n",
      "L1.1988-12-31        -0.144312         0.276321           -0.522           0.601\n",
      "L1.1992-12-31         0.148050         0.238145            0.622           0.534\n",
      "L1.1996-12-31        -0.265049         0.271217           -0.977           0.328\n",
      "L1.2000-12-31        -0.152769         0.144185           -1.060           0.289\n",
      "L1.2004-12-31         0.294706         0.189065            1.559           0.119\n",
      "L1.2008-12-31         0.667650         0.219411            3.043           0.002\n",
      "L1.2012-12-31         0.332401         0.197378            1.684           0.092\n",
      "L1.2016-12-31        -0.353887         0.191688           -1.846           0.065\n",
      "L1.2020-12-31        -0.478705         0.253297           -1.890           0.059\n",
      "================================================================================\n",
      "\n",
      "Results for equation 1984-12-31\n",
      "================================================================================\n",
      "                   coefficient       std. error           t-stat            prob\n",
      "--------------------------------------------------------------------------------\n",
      "const                -1.176572         2.274124           -0.517           0.605\n",
      "L1.1980-12-31         0.065979         0.235904            0.280           0.780\n",
      "L1.1984-12-31         0.614604         0.204557            3.005           0.003\n",
      "L1.1988-12-31         0.021499         0.275246            0.078           0.938\n",
      "L1.1992-12-31        -0.040393         0.237217           -0.170           0.865\n",
      "L1.1996-12-31        -0.164265         0.270161           -0.608           0.543\n",
      "L1.2000-12-31        -0.262605         0.143624           -1.828           0.067\n",
      "L1.2004-12-31         0.074013         0.188329            0.393           0.694\n",
      "L1.2008-12-31         0.077312         0.218557            0.354           0.724\n",
      "L1.2012-12-31         0.102294         0.196609            0.520           0.603\n",
      "L1.2016-12-31        -0.060511         0.190941           -0.317           0.751\n",
      "L1.2020-12-31         0.432705         0.252310            1.715           0.086\n",
      "================================================================================\n",
      "\n",
      "Results for equation 1988-12-31\n",
      "================================================================================\n",
      "                   coefficient       std. error           t-stat            prob\n",
      "--------------------------------------------------------------------------------\n",
      "const                 3.306488         1.818975            1.818           0.069\n",
      "L1.1980-12-31        -0.034105         0.188689           -0.181           0.857\n",
      "L1.1984-12-31        -0.074131         0.163616           -0.453           0.650\n",
      "L1.1988-12-31         0.418416         0.220157            1.901           0.057\n",
      "L1.1992-12-31        -0.002289         0.189740           -0.012           0.990\n",
      "L1.1996-12-31        -0.042425         0.216090           -0.196           0.844\n",
      "L1.2000-12-31         0.065896         0.114879            0.574           0.566\n",
      "L1.2004-12-31        -0.071657         0.150636           -0.476           0.634\n",
      "L1.2008-12-31         0.198857         0.174815            1.138           0.255\n",
      "L1.2012-12-31         0.221413         0.157259            1.408           0.159\n",
      "L1.2016-12-31        -0.052310         0.152726           -0.343           0.732\n",
      "L1.2020-12-31        -0.012658         0.201812           -0.063           0.950\n",
      "================================================================================\n",
      "\n",
      "Results for equation 1992-12-31\n",
      "================================================================================\n",
      "                   coefficient       std. error           t-stat            prob\n",
      "--------------------------------------------------------------------------------\n",
      "const                 0.097878         2.578269            0.038           0.970\n",
      "L1.1980-12-31         0.282490         0.267454            1.056           0.291\n",
      "L1.1984-12-31        -0.560122         0.231915           -2.415           0.016\n",
      "L1.1988-12-31         0.013198         0.312057            0.042           0.966\n",
      "L1.1992-12-31         0.491297         0.268943            1.827           0.068\n",
      "L1.1996-12-31         0.295665         0.306292            0.965           0.334\n",
      "L1.2000-12-31         0.215492         0.162832            1.323           0.186\n",
      "L1.2004-12-31        -0.086117         0.213516           -0.403           0.687\n",
      "L1.2008-12-31        -0.169552         0.247787           -0.684           0.494\n",
      "L1.2012-12-31         0.003246         0.222904            0.015           0.988\n",
      "L1.2016-12-31         0.173997         0.216478            0.804           0.422\n",
      "L1.2020-12-31         0.032499         0.286055            0.114           0.910\n",
      "================================================================================\n",
      "\n",
      "Results for equation 1996-12-31\n",
      "================================================================================\n",
      "                   coefficient       std. error           t-stat            prob\n",
      "--------------------------------------------------------------------------------\n",
      "const                 3.199374         1.784655            1.793           0.073\n",
      "L1.1980-12-31        -0.352585         0.185129           -1.905           0.057\n",
      "L1.1984-12-31        -0.301940         0.160529           -1.881           0.060\n",
      "L1.1988-12-31        -0.520643         0.216003           -2.410           0.016\n",
      "L1.1992-12-31        -0.119349         0.186160           -0.641           0.521\n",
      "L1.1996-12-31         0.022502         0.212013            0.106           0.915\n",
      "L1.2000-12-31        -0.182750         0.112711           -1.621           0.105\n",
      "L1.2004-12-31         0.240547         0.147794            1.628           0.104\n",
      "L1.2008-12-31         0.287736         0.171516            1.678           0.093\n",
      "L1.2012-12-31         0.017771         0.154292            0.115           0.908\n",
      "L1.2016-12-31         0.197409         0.149844            1.317           0.188\n",
      "L1.2020-12-31         0.553353         0.198005            2.795           0.005\n",
      "================================================================================\n",
      "\n",
      "Results for equation 2000-12-31\n",
      "================================================================================\n",
      "                   coefficient       std. error           t-stat            prob\n",
      "--------------------------------------------------------------------------------\n",
      "const                 0.216780         1.559368            0.139           0.889\n",
      "L1.1980-12-31        -0.119602         0.161759           -0.739           0.460\n",
      "L1.1984-12-31         0.318358         0.140265            2.270           0.023\n",
      "L1.1988-12-31         0.088655         0.188736            0.470           0.639\n",
      "L1.1992-12-31        -0.130701         0.162660           -0.804           0.422\n",
      "L1.1996-12-31         0.011240         0.185249            0.061           0.952\n",
      "L1.2000-12-31         0.864964         0.098483            8.783           0.000\n",
      "L1.2004-12-31         0.348714         0.129137            2.700           0.007\n",
      "L1.2008-12-31        -0.414767         0.149865           -2.768           0.006\n",
      "L1.2012-12-31        -0.334863         0.134815           -2.484           0.013\n",
      "L1.2016-12-31         0.000521         0.130929            0.004           0.997\n",
      "L1.2020-12-31         0.297986         0.173009            1.722           0.085\n",
      "================================================================================\n",
      "\n",
      "Results for equation 2004-12-31\n",
      "================================================================================\n",
      "                   coefficient       std. error           t-stat            prob\n",
      "--------------------------------------------------------------------------------\n",
      "const                 4.348728         2.203802            1.973           0.048\n",
      "L1.1980-12-31         0.200926         0.228609            0.879           0.379\n",
      "L1.1984-12-31         0.166318         0.198231            0.839           0.401\n",
      "L1.1988-12-31        -0.333832         0.266734           -1.252           0.211\n",
      "L1.1992-12-31         0.742549         0.229882            3.230           0.001\n",
      "L1.1996-12-31        -0.628527         0.261807           -2.401           0.016\n",
      "L1.2000-12-31        -0.160423         0.139183           -1.153           0.249\n",
      "L1.2004-12-31         0.487631         0.182505            2.672           0.008\n",
      "L1.2008-12-31         0.632133         0.211799            2.985           0.003\n",
      "L1.2012-12-31         0.284986         0.190529            1.496           0.135\n",
      "L1.2016-12-31        -0.691578         0.185037           -3.738           0.000\n",
      "L1.2020-12-31        -0.343191         0.244508           -1.404           0.160\n",
      "================================================================================\n",
      "\n",
      "Results for equation 2008-12-31\n",
      "================================================================================\n",
      "                   coefficient       std. error           t-stat            prob\n",
      "--------------------------------------------------------------------------------\n",
      "const                 2.171351         2.076440            1.046           0.296\n",
      "L1.1980-12-31        -0.504188         0.215397           -2.341           0.019\n",
      "L1.1984-12-31         0.187421         0.186775            1.003           0.316\n",
      "L1.1988-12-31        -0.226322         0.251319           -0.901           0.368\n",
      "L1.1992-12-31        -0.127893         0.216597           -0.590           0.555\n",
      "L1.1996-12-31        -0.288973         0.246676           -1.171           0.241\n",
      "L1.2000-12-31         0.031881         0.131139            0.243           0.808\n",
      "L1.2004-12-31         0.252073         0.171958            1.466           0.143\n",
      "L1.2008-12-31         0.634759         0.199558            3.181           0.001\n",
      "L1.2012-12-31        -0.202354         0.179518           -1.127           0.260\n",
      "L1.2016-12-31         0.359905         0.174343            2.064           0.039\n",
      "L1.2020-12-31         0.419229         0.230378            1.820           0.069\n",
      "================================================================================\n",
      "\n",
      "Results for equation 2012-12-31\n",
      "================================================================================\n",
      "                   coefficient       std. error           t-stat            prob\n",
      "--------------------------------------------------------------------------------\n",
      "const                 3.017923         1.823843            1.655           0.098\n",
      "L1.1980-12-31        -0.288212         0.189194           -1.523           0.128\n",
      "L1.1984-12-31         0.115153         0.164054            0.702           0.483\n",
      "L1.1988-12-31         0.177972         0.220746            0.806           0.420\n",
      "L1.1992-12-31        -0.287414         0.190248           -1.511           0.131\n",
      "L1.1996-12-31        -0.206097         0.216668           -0.951           0.341\n",
      "L1.2000-12-31         0.164105         0.115186            1.425           0.154\n",
      "L1.2004-12-31         0.041462         0.151039            0.275           0.784\n",
      "L1.2008-12-31        -0.265445         0.175282           -1.514           0.130\n",
      "L1.2012-12-31         0.591669         0.157680            3.752           0.000\n",
      "L1.2016-12-31        -0.177868         0.153134           -1.162           0.245\n",
      "L1.2020-12-31         0.354778         0.202352            1.753           0.080\n",
      "================================================================================\n",
      "\n",
      "Results for equation 2016-12-31\n",
      "================================================================================\n",
      "                   coefficient       std. error           t-stat            prob\n",
      "--------------------------------------------------------------------------------\n",
      "const                -4.337522         2.342985           -1.851           0.064\n",
      "L1.1980-12-31         0.345500         0.243047            1.422           0.155\n",
      "L1.1984-12-31         0.286036         0.210751            1.357           0.175\n",
      "L1.1988-12-31         0.507157         0.283580            1.788           0.074\n",
      "L1.1992-12-31         0.366167         0.244400            1.498           0.134\n",
      "L1.1996-12-31         0.189618         0.278341            0.681           0.496\n",
      "L1.2000-12-31         0.206074         0.147973            1.393           0.164\n",
      "L1.2004-12-31         0.173481         0.194031            0.894           0.371\n",
      "L1.2008-12-31         0.107610         0.225175            0.478           0.633\n",
      "L1.2012-12-31        -0.011154         0.202562           -0.055           0.956\n",
      "L1.2016-12-31         0.215241         0.196723            1.094           0.274\n",
      "L1.2020-12-31        -0.369550         0.259950           -1.422           0.155\n",
      "================================================================================\n",
      "\n",
      "Results for equation 2020-12-31\n",
      "================================================================================\n",
      "                   coefficient       std. error           t-stat            prob\n",
      "--------------------------------------------------------------------------------\n",
      "const                 3.970958         1.906902            2.082           0.037\n",
      "L1.1980-12-31         0.071363         0.197810            0.361           0.718\n",
      "L1.1984-12-31        -0.026243         0.171525           -0.153           0.878\n",
      "L1.1988-12-31        -0.687706         0.230799           -2.980           0.003\n",
      "L1.1992-12-31         0.134679         0.198912            0.677           0.498\n",
      "L1.1996-12-31        -0.060717         0.226536           -0.268           0.789\n",
      "L1.2000-12-31        -0.043874         0.120432           -0.364           0.716\n",
      "L1.2004-12-31        -0.307352         0.157918           -1.946           0.052\n",
      "L1.2008-12-31         0.204107         0.183265            1.114           0.265\n",
      "L1.2012-12-31         0.178243         0.164861            1.081           0.280\n",
      "L1.2016-12-31         0.399780         0.160108            2.497           0.013\n",
      "L1.2020-12-31         0.610508         0.211568            2.886           0.004\n",
      "================================================================================\n",
      "\n",
      "Correlation matrix of residuals\n",
      "              1980-12-31  1984-12-31  1988-12-31  1992-12-31  1996-12-31  2000-12-31  2004-12-31  2008-12-31  2012-12-31  2016-12-31  2020-12-31\n",
      "1980-12-31      1.000000    0.333614   -0.178855   -0.578162   -0.516712   -0.107049    0.193198    0.140807    0.388211   -0.213288   -0.050089\n",
      "1984-12-31      0.333614    1.000000   -0.411395   -0.166124    0.068109    0.377011    0.266534    0.005586    0.165768    0.162512    0.464445\n",
      "1988-12-31     -0.178855   -0.411395    1.000000    0.218041   -0.354989    0.111110   -0.112650    0.121801    0.053029    0.459162   -0.391634\n",
      "1992-12-31     -0.578162   -0.166124    0.218041    1.000000    0.110131    0.305385    0.061853   -0.276840   -0.459362    0.179555    0.081648\n",
      "1996-12-31     -0.516712    0.068109   -0.354989    0.110131    1.000000    0.075991   -0.378420    0.010173   -0.398083   -0.035548    0.442243\n",
      "2000-12-31     -0.107049    0.377011    0.111110    0.305385    0.075991    1.000000   -0.168283   -0.125986   -0.196839    0.022824    0.187069\n",
      "2004-12-31      0.193198    0.266534   -0.112650    0.061853   -0.378420   -0.168283    1.000000    0.015687    0.002939    0.315618    0.200317\n",
      "2008-12-31      0.140807    0.005586    0.121801   -0.276840    0.010173   -0.125986    0.015687    1.000000    0.097696    0.363673   -0.011293\n",
      "2012-12-31      0.388211    0.165768    0.053029   -0.459362   -0.398083   -0.196839    0.002939    0.097696    1.000000    0.028172    0.079135\n",
      "2016-12-31     -0.213288    0.162512    0.459162    0.179555   -0.035548    0.022824    0.315618    0.363673    0.028172    1.000000    0.010044\n",
      "2020-12-31     -0.050089    0.464445   -0.391634    0.081648    0.442243    0.187069    0.200317   -0.011293    0.079135    0.010044    1.000000\n",
      "\n",
      "\n",
      "\n"
     ]
    }
   ],
   "source": [
    "for day in range(1, 367):\n",
    "    ts_df = pd.DataFrame()\n",
    "    \n",
    "    for year in enumerate(days_of_year.get(day)['Date']):\n",
    "        if str(year[1])[0:10] >= '1980-01-01' and str(year[1])[0:10] <= '2020-12-31':\n",
    "            date = str(year[1])[0:10]\n",
    "            get_window(date)\n",
    "            ts_df[f'{date}'] = get_window(date)['Value'].tolist()\n",
    "\n",
    "    model = sm.tsa.VAR(ts_df)\n",
    "    result = model.fit(1)\n",
    "\n",
    "print(result.summary())"
   ]
  },
  {
   "cell_type": "code",
   "execution_count": 15,
   "id": "34870294-818e-4669-80d6-480e2b3701f1",
   "metadata": {},
   "outputs": [
    {
     "name": "stdout",
     "output_type": "stream",
     "text": [
      "1980-04-05 00:00:00\r"
     ]
    },
    {
     "name": "stderr",
     "output_type": "stream",
     "text": [
      "C:\\Users\\tcornew\\AppData\\Local\\anaconda3\\Lib\\site-packages\\statsmodels\\tsa\\statespace\\sarimax.py:966: UserWarning: Non-stationary starting autoregressive parameters found. Using zeros as starting parameters.\n",
      "  warn('Non-stationary starting autoregressive parameters'\n",
      "C:\\Users\\tcornew\\AppData\\Local\\anaconda3\\Lib\\site-packages\\statsmodels\\tsa\\statespace\\sarimax.py:966: UserWarning: Non-stationary starting autoregressive parameters found. Using zeros as starting parameters.\n",
      "  warn('Non-stationary starting autoregressive parameters'\n"
     ]
    },
    {
     "name": "stdout",
     "output_type": "stream",
     "text": [
      "1980-06-28 00:00:00\r"
     ]
    },
    {
     "name": "stderr",
     "output_type": "stream",
     "text": [
      "C:\\Users\\tcornew\\AppData\\Local\\anaconda3\\Lib\\site-packages\\statsmodels\\base\\model.py:607: ConvergenceWarning: Maximum Likelihood optimization failed to converge. Check mle_retvals\n",
      "  warnings.warn(\"Maximum Likelihood optimization failed to \"\n"
     ]
    },
    {
     "name": "stdout",
     "output_type": "stream",
     "text": [
      "1980-07-17 00:00:00\r"
     ]
    },
    {
     "name": "stderr",
     "output_type": "stream",
     "text": [
      "C:\\Users\\tcornew\\AppData\\Local\\anaconda3\\Lib\\site-packages\\statsmodels\\base\\model.py:607: ConvergenceWarning: Maximum Likelihood optimization failed to converge. Check mle_retvals\n",
      "  warnings.warn(\"Maximum Likelihood optimization failed to \"\n"
     ]
    },
    {
     "name": "stdout",
     "output_type": "stream",
     "text": [
      "1981-08-18 00:00:00\r"
     ]
    },
    {
     "name": "stderr",
     "output_type": "stream",
     "text": [
      "C:\\Users\\tcornew\\AppData\\Local\\anaconda3\\Lib\\site-packages\\statsmodels\\base\\model.py:607: ConvergenceWarning: Maximum Likelihood optimization failed to converge. Check mle_retvals\n",
      "  warnings.warn(\"Maximum Likelihood optimization failed to \"\n"
     ]
    },
    {
     "name": "stdout",
     "output_type": "stream",
     "text": [
      "1981-12-11 00:00:00\r"
     ]
    },
    {
     "name": "stderr",
     "output_type": "stream",
     "text": [
      "C:\\Users\\tcornew\\AppData\\Local\\anaconda3\\Lib\\site-packages\\statsmodels\\tsa\\statespace\\sarimax.py:966: UserWarning: Non-stationary starting autoregressive parameters found. Using zeros as starting parameters.\n",
      "  warn('Non-stationary starting autoregressive parameters'\n"
     ]
    },
    {
     "name": "stdout",
     "output_type": "stream",
     "text": [
      "1983-08-16 00:00:00\r"
     ]
    },
    {
     "name": "stderr",
     "output_type": "stream",
     "text": [
      "C:\\Users\\tcornew\\AppData\\Local\\anaconda3\\Lib\\site-packages\\statsmodels\\base\\model.py:607: ConvergenceWarning: Maximum Likelihood optimization failed to converge. Check mle_retvals\n",
      "  warnings.warn(\"Maximum Likelihood optimization failed to \"\n"
     ]
    },
    {
     "name": "stdout",
     "output_type": "stream",
     "text": [
      "1983-09-26 00:00:00\r"
     ]
    },
    {
     "name": "stderr",
     "output_type": "stream",
     "text": [
      "C:\\Users\\tcornew\\AppData\\Local\\anaconda3\\Lib\\site-packages\\statsmodels\\base\\model.py:607: ConvergenceWarning: Maximum Likelihood optimization failed to converge. Check mle_retvals\n",
      "  warnings.warn(\"Maximum Likelihood optimization failed to \"\n"
     ]
    },
    {
     "name": "stdout",
     "output_type": "stream",
     "text": [
      "1984-11-07 00:00:00\r"
     ]
    },
    {
     "name": "stderr",
     "output_type": "stream",
     "text": [
      "C:\\Users\\tcornew\\AppData\\Local\\anaconda3\\Lib\\site-packages\\statsmodels\\base\\model.py:607: ConvergenceWarning: Maximum Likelihood optimization failed to converge. Check mle_retvals\n",
      "  warnings.warn(\"Maximum Likelihood optimization failed to \"\n"
     ]
    },
    {
     "name": "stdout",
     "output_type": "stream",
     "text": [
      "1985-03-25 00:00:00\r"
     ]
    },
    {
     "name": "stderr",
     "output_type": "stream",
     "text": [
      "C:\\Users\\tcornew\\AppData\\Local\\anaconda3\\Lib\\site-packages\\statsmodels\\tsa\\statespace\\sarimax.py:966: UserWarning: Non-stationary starting autoregressive parameters found. Using zeros as starting parameters.\n",
      "  warn('Non-stationary starting autoregressive parameters'\n"
     ]
    },
    {
     "name": "stdout",
     "output_type": "stream",
     "text": [
      "1985-08-25 00:00:00\r"
     ]
    },
    {
     "name": "stderr",
     "output_type": "stream",
     "text": [
      "C:\\Users\\tcornew\\AppData\\Local\\anaconda3\\Lib\\site-packages\\statsmodels\\base\\model.py:607: ConvergenceWarning: Maximum Likelihood optimization failed to converge. Check mle_retvals\n",
      "  warnings.warn(\"Maximum Likelihood optimization failed to \"\n"
     ]
    },
    {
     "name": "stdout",
     "output_type": "stream",
     "text": [
      "1987-01-05 00:00:00\r"
     ]
    },
    {
     "name": "stderr",
     "output_type": "stream",
     "text": [
      "C:\\Users\\tcornew\\AppData\\Local\\anaconda3\\Lib\\site-packages\\statsmodels\\tsa\\statespace\\sarimax.py:966: UserWarning: Non-stationary starting autoregressive parameters found. Using zeros as starting parameters.\n",
      "  warn('Non-stationary starting autoregressive parameters'\n"
     ]
    },
    {
     "name": "stdout",
     "output_type": "stream",
     "text": [
      "1987-07-17 00:00:00\r"
     ]
    },
    {
     "name": "stderr",
     "output_type": "stream",
     "text": [
      "C:\\Users\\tcornew\\AppData\\Local\\anaconda3\\Lib\\site-packages\\statsmodels\\base\\model.py:607: ConvergenceWarning: Maximum Likelihood optimization failed to converge. Check mle_retvals\n",
      "  warnings.warn(\"Maximum Likelihood optimization failed to \"\n"
     ]
    },
    {
     "name": "stdout",
     "output_type": "stream",
     "text": [
      "1987-08-27 00:00:00\r"
     ]
    },
    {
     "name": "stderr",
     "output_type": "stream",
     "text": [
      "C:\\Users\\tcornew\\AppData\\Local\\anaconda3\\Lib\\site-packages\\statsmodels\\base\\model.py:607: ConvergenceWarning: Maximum Likelihood optimization failed to converge. Check mle_retvals\n",
      "  warnings.warn(\"Maximum Likelihood optimization failed to \"\n"
     ]
    },
    {
     "name": "stdout",
     "output_type": "stream",
     "text": [
      "1988-04-03 00:00:00\r"
     ]
    },
    {
     "name": "stderr",
     "output_type": "stream",
     "text": [
      "C:\\Users\\tcornew\\AppData\\Local\\anaconda3\\Lib\\site-packages\\statsmodels\\base\\model.py:607: ConvergenceWarning: Maximum Likelihood optimization failed to converge. Check mle_retvals\n",
      "  warnings.warn(\"Maximum Likelihood optimization failed to \"\n"
     ]
    },
    {
     "name": "stdout",
     "output_type": "stream",
     "text": [
      "1988-08-23 00:00:00\r"
     ]
    },
    {
     "name": "stderr",
     "output_type": "stream",
     "text": [
      "C:\\Users\\tcornew\\AppData\\Local\\anaconda3\\Lib\\site-packages\\statsmodels\\base\\model.py:607: ConvergenceWarning: Maximum Likelihood optimization failed to converge. Check mle_retvals\n",
      "  warnings.warn(\"Maximum Likelihood optimization failed to \"\n"
     ]
    },
    {
     "name": "stdout",
     "output_type": "stream",
     "text": [
      "1988-08-28 00:00:00\r"
     ]
    },
    {
     "name": "stderr",
     "output_type": "stream",
     "text": [
      "C:\\Users\\tcornew\\AppData\\Local\\anaconda3\\Lib\\site-packages\\statsmodels\\base\\model.py:607: ConvergenceWarning: Maximum Likelihood optimization failed to converge. Check mle_retvals\n",
      "  warnings.warn(\"Maximum Likelihood optimization failed to \"\n"
     ]
    },
    {
     "name": "stdout",
     "output_type": "stream",
     "text": [
      "1989-02-16 00:00:00\r"
     ]
    },
    {
     "name": "stderr",
     "output_type": "stream",
     "text": [
      "C:\\Users\\tcornew\\AppData\\Local\\anaconda3\\Lib\\site-packages\\statsmodels\\base\\model.py:607: ConvergenceWarning: Maximum Likelihood optimization failed to converge. Check mle_retvals\n",
      "  warnings.warn(\"Maximum Likelihood optimization failed to \"\n"
     ]
    },
    {
     "name": "stdout",
     "output_type": "stream",
     "text": [
      "1989-09-11 00:00:00\r"
     ]
    },
    {
     "name": "stderr",
     "output_type": "stream",
     "text": [
      "C:\\Users\\tcornew\\AppData\\Local\\anaconda3\\Lib\\site-packages\\statsmodels\\base\\model.py:607: ConvergenceWarning: Maximum Likelihood optimization failed to converge. Check mle_retvals\n",
      "  warnings.warn(\"Maximum Likelihood optimization failed to \"\n"
     ]
    },
    {
     "name": "stdout",
     "output_type": "stream",
     "text": [
      "1991-02-19 00:00:00\r"
     ]
    },
    {
     "name": "stderr",
     "output_type": "stream",
     "text": [
      "C:\\Users\\tcornew\\AppData\\Local\\anaconda3\\Lib\\site-packages\\statsmodels\\tsa\\statespace\\sarimax.py:966: UserWarning: Non-stationary starting autoregressive parameters found. Using zeros as starting parameters.\n",
      "  warn('Non-stationary starting autoregressive parameters'\n"
     ]
    },
    {
     "name": "stdout",
     "output_type": "stream",
     "text": [
      "1991-08-28 00:00:00\r"
     ]
    },
    {
     "name": "stderr",
     "output_type": "stream",
     "text": [
      "C:\\Users\\tcornew\\AppData\\Local\\anaconda3\\Lib\\site-packages\\statsmodels\\base\\model.py:607: ConvergenceWarning: Maximum Likelihood optimization failed to converge. Check mle_retvals\n",
      "  warnings.warn(\"Maximum Likelihood optimization failed to \"\n"
     ]
    },
    {
     "name": "stdout",
     "output_type": "stream",
     "text": [
      "1991-12-04 00:00:00\r"
     ]
    },
    {
     "name": "stderr",
     "output_type": "stream",
     "text": [
      "C:\\Users\\tcornew\\AppData\\Local\\anaconda3\\Lib\\site-packages\\statsmodels\\tsa\\statespace\\sarimax.py:966: UserWarning: Non-stationary starting autoregressive parameters found. Using zeros as starting parameters.\n",
      "  warn('Non-stationary starting autoregressive parameters'\n",
      "C:\\Users\\tcornew\\AppData\\Local\\anaconda3\\Lib\\site-packages\\statsmodels\\tsa\\statespace\\sarimax.py:966: UserWarning: Non-stationary starting autoregressive parameters found. Using zeros as starting parameters.\n",
      "  warn('Non-stationary starting autoregressive parameters'\n"
     ]
    },
    {
     "name": "stdout",
     "output_type": "stream",
     "text": [
      "1992-09-03 00:00:00\r"
     ]
    },
    {
     "name": "stderr",
     "output_type": "stream",
     "text": [
      "C:\\Users\\tcornew\\AppData\\Local\\anaconda3\\Lib\\site-packages\\statsmodels\\base\\model.py:607: ConvergenceWarning: Maximum Likelihood optimization failed to converge. Check mle_retvals\n",
      "  warnings.warn(\"Maximum Likelihood optimization failed to \"\n",
      "C:\\Users\\tcornew\\AppData\\Local\\anaconda3\\Lib\\site-packages\\statsmodels\\base\\model.py:607: ConvergenceWarning: Maximum Likelihood optimization failed to converge. Check mle_retvals\n",
      "  warnings.warn(\"Maximum Likelihood optimization failed to \"\n"
     ]
    },
    {
     "name": "stdout",
     "output_type": "stream",
     "text": [
      "1993-10-01 00:00:00\r"
     ]
    },
    {
     "name": "stderr",
     "output_type": "stream",
     "text": [
      "C:\\Users\\tcornew\\AppData\\Local\\anaconda3\\Lib\\site-packages\\statsmodels\\tsa\\statespace\\sarimax.py:966: UserWarning: Non-stationary starting autoregressive parameters found. Using zeros as starting parameters.\n",
      "  warn('Non-stationary starting autoregressive parameters'\n"
     ]
    },
    {
     "name": "stdout",
     "output_type": "stream",
     "text": [
      "1993-11-16 00:00:00\r"
     ]
    },
    {
     "name": "stderr",
     "output_type": "stream",
     "text": [
      "C:\\Users\\tcornew\\AppData\\Local\\anaconda3\\Lib\\site-packages\\statsmodels\\tsa\\statespace\\sarimax.py:966: UserWarning: Non-stationary starting autoregressive parameters found. Using zeros as starting parameters.\n",
      "  warn('Non-stationary starting autoregressive parameters'\n",
      "C:\\Users\\tcornew\\AppData\\Local\\anaconda3\\Lib\\site-packages\\statsmodels\\tsa\\statespace\\sarimax.py:966: UserWarning: Non-stationary starting autoregressive parameters found. Using zeros as starting parameters.\n",
      "  warn('Non-stationary starting autoregressive parameters'\n",
      "C:\\Users\\tcornew\\AppData\\Local\\anaconda3\\Lib\\site-packages\\statsmodels\\tsa\\statespace\\sarimax.py:966: UserWarning: Non-stationary starting autoregressive parameters found. Using zeros as starting parameters.\n",
      "  warn('Non-stationary starting autoregressive parameters'\n",
      "C:\\Users\\tcornew\\AppData\\Local\\anaconda3\\Lib\\site-packages\\statsmodels\\tsa\\statespace\\sarimax.py:966: UserWarning: Non-stationary starting autoregressive parameters found. Using zeros as starting parameters.\n",
      "  warn('Non-stationary starting autoregressive parameters'\n"
     ]
    },
    {
     "name": "stdout",
     "output_type": "stream",
     "text": [
      "1994-06-24 00:00:00\r"
     ]
    },
    {
     "name": "stderr",
     "output_type": "stream",
     "text": [
      "C:\\Users\\tcornew\\AppData\\Local\\anaconda3\\Lib\\site-packages\\statsmodels\\base\\model.py:607: ConvergenceWarning: Maximum Likelihood optimization failed to converge. Check mle_retvals\n",
      "  warnings.warn(\"Maximum Likelihood optimization failed to \"\n"
     ]
    },
    {
     "name": "stdout",
     "output_type": "stream",
     "text": [
      "1994-08-05 00:00:00\r"
     ]
    },
    {
     "name": "stderr",
     "output_type": "stream",
     "text": [
      "C:\\Users\\tcornew\\AppData\\Local\\anaconda3\\Lib\\site-packages\\statsmodels\\base\\model.py:607: ConvergenceWarning: Maximum Likelihood optimization failed to converge. Check mle_retvals\n",
      "  warnings.warn(\"Maximum Likelihood optimization failed to \"\n",
      "C:\\Users\\tcornew\\AppData\\Local\\anaconda3\\Lib\\site-packages\\statsmodels\\base\\model.py:607: ConvergenceWarning: Maximum Likelihood optimization failed to converge. Check mle_retvals\n",
      "  warnings.warn(\"Maximum Likelihood optimization failed to \"\n"
     ]
    },
    {
     "name": "stdout",
     "output_type": "stream",
     "text": [
      "1994-08-26 00:00:00\r"
     ]
    },
    {
     "name": "stderr",
     "output_type": "stream",
     "text": [
      "C:\\Users\\tcornew\\AppData\\Local\\anaconda3\\Lib\\site-packages\\statsmodels\\base\\model.py:607: ConvergenceWarning: Maximum Likelihood optimization failed to converge. Check mle_retvals\n",
      "  warnings.warn(\"Maximum Likelihood optimization failed to \"\n"
     ]
    },
    {
     "name": "stdout",
     "output_type": "stream",
     "text": [
      "1994-09-27 00:00:00\r"
     ]
    },
    {
     "name": "stderr",
     "output_type": "stream",
     "text": [
      "C:\\Users\\tcornew\\AppData\\Local\\anaconda3\\Lib\\site-packages\\statsmodels\\base\\model.py:607: ConvergenceWarning: Maximum Likelihood optimization failed to converge. Check mle_retvals\n",
      "  warnings.warn(\"Maximum Likelihood optimization failed to \"\n"
     ]
    },
    {
     "name": "stdout",
     "output_type": "stream",
     "text": [
      "1994-10-10 00:00:00\r"
     ]
    },
    {
     "name": "stderr",
     "output_type": "stream",
     "text": [
      "C:\\Users\\tcornew\\AppData\\Local\\anaconda3\\Lib\\site-packages\\statsmodels\\base\\model.py:607: ConvergenceWarning: Maximum Likelihood optimization failed to converge. Check mle_retvals\n",
      "  warnings.warn(\"Maximum Likelihood optimization failed to \"\n"
     ]
    },
    {
     "name": "stdout",
     "output_type": "stream",
     "text": [
      "1995-06-18 00:00:00\r"
     ]
    },
    {
     "name": "stderr",
     "output_type": "stream",
     "text": [
      "C:\\Users\\tcornew\\AppData\\Local\\anaconda3\\Lib\\site-packages\\statsmodels\\tsa\\statespace\\sarimax.py:966: UserWarning: Non-stationary starting autoregressive parameters found. Using zeros as starting parameters.\n",
      "  warn('Non-stationary starting autoregressive parameters'\n"
     ]
    },
    {
     "name": "stdout",
     "output_type": "stream",
     "text": [
      "1995-07-06 00:00:00\r"
     ]
    },
    {
     "name": "stderr",
     "output_type": "stream",
     "text": [
      "C:\\Users\\tcornew\\AppData\\Local\\anaconda3\\Lib\\site-packages\\statsmodels\\base\\model.py:607: ConvergenceWarning: Maximum Likelihood optimization failed to converge. Check mle_retvals\n",
      "  warnings.warn(\"Maximum Likelihood optimization failed to \"\n"
     ]
    },
    {
     "name": "stdout",
     "output_type": "stream",
     "text": [
      "1996-07-25 00:00:00\r"
     ]
    },
    {
     "name": "stderr",
     "output_type": "stream",
     "text": [
      "C:\\Users\\tcornew\\AppData\\Local\\anaconda3\\Lib\\site-packages\\statsmodels\\base\\model.py:607: ConvergenceWarning: Maximum Likelihood optimization failed to converge. Check mle_retvals\n",
      "  warnings.warn(\"Maximum Likelihood optimization failed to \"\n"
     ]
    },
    {
     "name": "stdout",
     "output_type": "stream",
     "text": [
      "1997-09-15 00:00:00\r"
     ]
    },
    {
     "name": "stderr",
     "output_type": "stream",
     "text": [
      "C:\\Users\\tcornew\\AppData\\Local\\anaconda3\\Lib\\site-packages\\statsmodels\\base\\model.py:607: ConvergenceWarning: Maximum Likelihood optimization failed to converge. Check mle_retvals\n",
      "  warnings.warn(\"Maximum Likelihood optimization failed to \"\n"
     ]
    },
    {
     "name": "stdout",
     "output_type": "stream",
     "text": [
      "1999-03-30 00:00:00\r"
     ]
    },
    {
     "name": "stderr",
     "output_type": "stream",
     "text": [
      "C:\\Users\\tcornew\\AppData\\Local\\anaconda3\\Lib\\site-packages\\statsmodels\\base\\model.py:607: ConvergenceWarning: Maximum Likelihood optimization failed to converge. Check mle_retvals\n",
      "  warnings.warn(\"Maximum Likelihood optimization failed to \"\n"
     ]
    },
    {
     "name": "stdout",
     "output_type": "stream",
     "text": [
      "1999-07-27 00:00:00\r"
     ]
    },
    {
     "name": "stderr",
     "output_type": "stream",
     "text": [
      "C:\\Users\\tcornew\\AppData\\Local\\anaconda3\\Lib\\site-packages\\statsmodels\\base\\model.py:607: ConvergenceWarning: Maximum Likelihood optimization failed to converge. Check mle_retvals\n",
      "  warnings.warn(\"Maximum Likelihood optimization failed to \"\n"
     ]
    },
    {
     "name": "stdout",
     "output_type": "stream",
     "text": [
      "1999-09-21 00:00:00\r"
     ]
    },
    {
     "name": "stderr",
     "output_type": "stream",
     "text": [
      "C:\\Users\\tcornew\\AppData\\Local\\anaconda3\\Lib\\site-packages\\statsmodels\\base\\model.py:607: ConvergenceWarning: Maximum Likelihood optimization failed to converge. Check mle_retvals\n",
      "  warnings.warn(\"Maximum Likelihood optimization failed to \"\n"
     ]
    },
    {
     "name": "stdout",
     "output_type": "stream",
     "text": [
      "2000-06-04 00:00:00\r"
     ]
    },
    {
     "name": "stderr",
     "output_type": "stream",
     "text": [
      "C:\\Users\\tcornew\\AppData\\Local\\anaconda3\\Lib\\site-packages\\statsmodels\\tsa\\statespace\\sarimax.py:966: UserWarning: Non-stationary starting autoregressive parameters found. Using zeros as starting parameters.\n",
      "  warn('Non-stationary starting autoregressive parameters'\n"
     ]
    },
    {
     "name": "stdout",
     "output_type": "stream",
     "text": [
      "2000-08-12 00:00:00\r"
     ]
    },
    {
     "name": "stderr",
     "output_type": "stream",
     "text": [
      "C:\\Users\\tcornew\\AppData\\Local\\anaconda3\\Lib\\site-packages\\statsmodels\\base\\model.py:607: ConvergenceWarning: Maximum Likelihood optimization failed to converge. Check mle_retvals\n",
      "  warnings.warn(\"Maximum Likelihood optimization failed to \"\n"
     ]
    },
    {
     "name": "stdout",
     "output_type": "stream",
     "text": [
      "2000-10-09 00:00:00\r"
     ]
    },
    {
     "name": "stderr",
     "output_type": "stream",
     "text": [
      "C:\\Users\\tcornew\\AppData\\Local\\anaconda3\\Lib\\site-packages\\statsmodels\\base\\model.py:607: ConvergenceWarning: Maximum Likelihood optimization failed to converge. Check mle_retvals\n",
      "  warnings.warn(\"Maximum Likelihood optimization failed to \"\n"
     ]
    },
    {
     "name": "stdout",
     "output_type": "stream",
     "text": [
      "2001-05-01 00:00:00\r"
     ]
    },
    {
     "name": "stderr",
     "output_type": "stream",
     "text": [
      "C:\\Users\\tcornew\\AppData\\Local\\anaconda3\\Lib\\site-packages\\statsmodels\\tsa\\statespace\\sarimax.py:966: UserWarning: Non-stationary starting autoregressive parameters found. Using zeros as starting parameters.\n",
      "  warn('Non-stationary starting autoregressive parameters'\n"
     ]
    },
    {
     "name": "stdout",
     "output_type": "stream",
     "text": [
      "2001-08-20 00:00:00\r"
     ]
    },
    {
     "name": "stderr",
     "output_type": "stream",
     "text": [
      "C:\\Users\\tcornew\\AppData\\Local\\anaconda3\\Lib\\site-packages\\statsmodels\\base\\model.py:607: ConvergenceWarning: Maximum Likelihood optimization failed to converge. Check mle_retvals\n",
      "  warnings.warn(\"Maximum Likelihood optimization failed to \"\n"
     ]
    },
    {
     "name": "stdout",
     "output_type": "stream",
     "text": [
      "2001-10-04 00:00:00\r"
     ]
    },
    {
     "name": "stderr",
     "output_type": "stream",
     "text": [
      "C:\\Users\\tcornew\\AppData\\Local\\anaconda3\\Lib\\site-packages\\statsmodels\\base\\model.py:607: ConvergenceWarning: Maximum Likelihood optimization failed to converge. Check mle_retvals\n",
      "  warnings.warn(\"Maximum Likelihood optimization failed to \"\n",
      "C:\\Users\\tcornew\\AppData\\Local\\anaconda3\\Lib\\site-packages\\statsmodels\\base\\model.py:607: ConvergenceWarning: Maximum Likelihood optimization failed to converge. Check mle_retvals\n",
      "  warnings.warn(\"Maximum Likelihood optimization failed to \"\n"
     ]
    },
    {
     "name": "stdout",
     "output_type": "stream",
     "text": [
      "2002-08-07 00:00:00\r"
     ]
    },
    {
     "name": "stderr",
     "output_type": "stream",
     "text": [
      "C:\\Users\\tcornew\\AppData\\Local\\anaconda3\\Lib\\site-packages\\statsmodels\\base\\model.py:607: ConvergenceWarning: Maximum Likelihood optimization failed to converge. Check mle_retvals\n",
      "  warnings.warn(\"Maximum Likelihood optimization failed to \"\n"
     ]
    },
    {
     "name": "stdout",
     "output_type": "stream",
     "text": [
      "2003-06-10 00:00:00\r"
     ]
    },
    {
     "name": "stderr",
     "output_type": "stream",
     "text": [
      "C:\\Users\\tcornew\\AppData\\Local\\anaconda3\\Lib\\site-packages\\statsmodels\\base\\model.py:607: ConvergenceWarning: Maximum Likelihood optimization failed to converge. Check mle_retvals\n",
      "  warnings.warn(\"Maximum Likelihood optimization failed to \"\n"
     ]
    },
    {
     "name": "stdout",
     "output_type": "stream",
     "text": [
      "2003-08-05 00:00:00\r"
     ]
    },
    {
     "name": "stderr",
     "output_type": "stream",
     "text": [
      "C:\\Users\\tcornew\\AppData\\Local\\anaconda3\\Lib\\site-packages\\statsmodels\\base\\model.py:607: ConvergenceWarning: Maximum Likelihood optimization failed to converge. Check mle_retvals\n",
      "  warnings.warn(\"Maximum Likelihood optimization failed to \"\n"
     ]
    },
    {
     "name": "stdout",
     "output_type": "stream",
     "text": [
      "2004-03-03 00:00:00\r"
     ]
    },
    {
     "name": "stderr",
     "output_type": "stream",
     "text": [
      "C:\\Users\\tcornew\\AppData\\Local\\anaconda3\\Lib\\site-packages\\statsmodels\\tsa\\statespace\\sarimax.py:966: UserWarning: Non-stationary starting autoregressive parameters found. Using zeros as starting parameters.\n",
      "  warn('Non-stationary starting autoregressive parameters'\n"
     ]
    },
    {
     "name": "stdout",
     "output_type": "stream",
     "text": [
      "2004-08-01 00:00:00\r"
     ]
    },
    {
     "name": "stderr",
     "output_type": "stream",
     "text": [
      "C:\\Users\\tcornew\\AppData\\Local\\anaconda3\\Lib\\site-packages\\statsmodels\\base\\model.py:607: ConvergenceWarning: Maximum Likelihood optimization failed to converge. Check mle_retvals\n",
      "  warnings.warn(\"Maximum Likelihood optimization failed to \"\n"
     ]
    },
    {
     "name": "stdout",
     "output_type": "stream",
     "text": [
      "2005-03-06 00:00:00\r"
     ]
    },
    {
     "name": "stderr",
     "output_type": "stream",
     "text": [
      "C:\\Users\\tcornew\\AppData\\Local\\anaconda3\\Lib\\site-packages\\statsmodels\\tsa\\statespace\\sarimax.py:966: UserWarning: Non-stationary starting autoregressive parameters found. Using zeros as starting parameters.\n",
      "  warn('Non-stationary starting autoregressive parameters'\n"
     ]
    },
    {
     "name": "stdout",
     "output_type": "stream",
     "text": [
      "2005-09-05 00:00:00\r"
     ]
    },
    {
     "name": "stderr",
     "output_type": "stream",
     "text": [
      "C:\\Users\\tcornew\\AppData\\Local\\anaconda3\\Lib\\site-packages\\statsmodels\\base\\model.py:607: ConvergenceWarning: Maximum Likelihood optimization failed to converge. Check mle_retvals\n",
      "  warnings.warn(\"Maximum Likelihood optimization failed to \"\n"
     ]
    },
    {
     "name": "stdout",
     "output_type": "stream",
     "text": [
      "2006-05-28 00:00:00\r"
     ]
    },
    {
     "name": "stderr",
     "output_type": "stream",
     "text": [
      "C:\\Users\\tcornew\\AppData\\Local\\anaconda3\\Lib\\site-packages\\statsmodels\\tsa\\statespace\\sarimax.py:966: UserWarning: Non-stationary starting autoregressive parameters found. Using zeros as starting parameters.\n",
      "  warn('Non-stationary starting autoregressive parameters'\n"
     ]
    },
    {
     "name": "stdout",
     "output_type": "stream",
     "text": [
      "2007-09-06 00:00:00\r"
     ]
    },
    {
     "name": "stderr",
     "output_type": "stream",
     "text": [
      "C:\\Users\\tcornew\\AppData\\Local\\anaconda3\\Lib\\site-packages\\statsmodels\\base\\model.py:607: ConvergenceWarning: Maximum Likelihood optimization failed to converge. Check mle_retvals\n",
      "  warnings.warn(\"Maximum Likelihood optimization failed to \"\n"
     ]
    },
    {
     "name": "stdout",
     "output_type": "stream",
     "text": [
      "2008-07-24 00:00:00\r"
     ]
    },
    {
     "name": "stderr",
     "output_type": "stream",
     "text": [
      "C:\\Users\\tcornew\\AppData\\Local\\anaconda3\\Lib\\site-packages\\statsmodels\\base\\model.py:607: ConvergenceWarning: Maximum Likelihood optimization failed to converge. Check mle_retvals\n",
      "  warnings.warn(\"Maximum Likelihood optimization failed to \"\n"
     ]
    },
    {
     "name": "stdout",
     "output_type": "stream",
     "text": [
      "2008-09-26 00:00:00\r"
     ]
    },
    {
     "name": "stderr",
     "output_type": "stream",
     "text": [
      "C:\\Users\\tcornew\\AppData\\Local\\anaconda3\\Lib\\site-packages\\statsmodels\\base\\model.py:607: ConvergenceWarning: Maximum Likelihood optimization failed to converge. Check mle_retvals\n",
      "  warnings.warn(\"Maximum Likelihood optimization failed to \"\n"
     ]
    },
    {
     "name": "stdout",
     "output_type": "stream",
     "text": [
      "2009-04-17 00:00:00\r"
     ]
    },
    {
     "name": "stderr",
     "output_type": "stream",
     "text": [
      "C:\\Users\\tcornew\\AppData\\Local\\anaconda3\\Lib\\site-packages\\statsmodels\\base\\model.py:607: ConvergenceWarning: Maximum Likelihood optimization failed to converge. Check mle_retvals\n",
      "  warnings.warn(\"Maximum Likelihood optimization failed to \"\n"
     ]
    },
    {
     "name": "stdout",
     "output_type": "stream",
     "text": [
      "2009-09-29 00:00:00\r"
     ]
    },
    {
     "name": "stderr",
     "output_type": "stream",
     "text": [
      "C:\\Users\\tcornew\\AppData\\Local\\anaconda3\\Lib\\site-packages\\statsmodels\\base\\model.py:607: ConvergenceWarning: Maximum Likelihood optimization failed to converge. Check mle_retvals\n",
      "  warnings.warn(\"Maximum Likelihood optimization failed to \"\n"
     ]
    },
    {
     "name": "stdout",
     "output_type": "stream",
     "text": [
      "2009-10-22 00:00:00\r"
     ]
    },
    {
     "name": "stderr",
     "output_type": "stream",
     "text": [
      "C:\\Users\\tcornew\\AppData\\Local\\anaconda3\\Lib\\site-packages\\statsmodels\\base\\model.py:607: ConvergenceWarning: Maximum Likelihood optimization failed to converge. Check mle_retvals\n",
      "  warnings.warn(\"Maximum Likelihood optimization failed to \"\n"
     ]
    },
    {
     "name": "stdout",
     "output_type": "stream",
     "text": [
      "2010-06-08 00:00:00\r"
     ]
    },
    {
     "name": "stderr",
     "output_type": "stream",
     "text": [
      "C:\\Users\\tcornew\\AppData\\Local\\anaconda3\\Lib\\site-packages\\statsmodels\\base\\model.py:607: ConvergenceWarning: Maximum Likelihood optimization failed to converge. Check mle_retvals\n",
      "  warnings.warn(\"Maximum Likelihood optimization failed to \"\n"
     ]
    },
    {
     "name": "stdout",
     "output_type": "stream",
     "text": [
      "2012-08-07 00:00:00\r"
     ]
    },
    {
     "name": "stderr",
     "output_type": "stream",
     "text": [
      "C:\\Users\\tcornew\\AppData\\Local\\anaconda3\\Lib\\site-packages\\statsmodels\\base\\model.py:607: ConvergenceWarning: Maximum Likelihood optimization failed to converge. Check mle_retvals\n",
      "  warnings.warn(\"Maximum Likelihood optimization failed to \"\n"
     ]
    },
    {
     "name": "stdout",
     "output_type": "stream",
     "text": [
      "2012-08-29 00:00:00\r"
     ]
    },
    {
     "name": "stderr",
     "output_type": "stream",
     "text": [
      "C:\\Users\\tcornew\\AppData\\Local\\anaconda3\\Lib\\site-packages\\statsmodels\\base\\model.py:607: ConvergenceWarning: Maximum Likelihood optimization failed to converge. Check mle_retvals\n",
      "  warnings.warn(\"Maximum Likelihood optimization failed to \"\n"
     ]
    },
    {
     "name": "stdout",
     "output_type": "stream",
     "text": [
      "2013-04-09 00:00:00\r"
     ]
    },
    {
     "name": "stderr",
     "output_type": "stream",
     "text": [
      "C:\\Users\\tcornew\\AppData\\Local\\anaconda3\\Lib\\site-packages\\statsmodels\\tsa\\statespace\\sarimax.py:966: UserWarning: Non-stationary starting autoregressive parameters found. Using zeros as starting parameters.\n",
      "  warn('Non-stationary starting autoregressive parameters'\n",
      "C:\\Users\\tcornew\\AppData\\Local\\anaconda3\\Lib\\site-packages\\statsmodels\\tsa\\statespace\\sarimax.py:966: UserWarning: Non-stationary starting autoregressive parameters found. Using zeros as starting parameters.\n",
      "  warn('Non-stationary starting autoregressive parameters'\n",
      "C:\\Users\\tcornew\\AppData\\Local\\anaconda3\\Lib\\site-packages\\statsmodels\\tsa\\statespace\\sarimax.py:966: UserWarning: Non-stationary starting autoregressive parameters found. Using zeros as starting parameters.\n",
      "  warn('Non-stationary starting autoregressive parameters'\n",
      "C:\\Users\\tcornew\\AppData\\Local\\anaconda3\\Lib\\site-packages\\statsmodels\\tsa\\statespace\\sarimax.py:966: UserWarning: Non-stationary starting autoregressive parameters found. Using zeros as starting parameters.\n",
      "  warn('Non-stationary starting autoregressive parameters'\n"
     ]
    },
    {
     "name": "stdout",
     "output_type": "stream",
     "text": [
      "2013-06-20 00:00:00\r"
     ]
    },
    {
     "name": "stderr",
     "output_type": "stream",
     "text": [
      "C:\\Users\\tcornew\\AppData\\Local\\anaconda3\\Lib\\site-packages\\statsmodels\\base\\model.py:607: ConvergenceWarning: Maximum Likelihood optimization failed to converge. Check mle_retvals\n",
      "  warnings.warn(\"Maximum Likelihood optimization failed to \"\n",
      "C:\\Users\\tcornew\\AppData\\Local\\anaconda3\\Lib\\site-packages\\statsmodels\\base\\model.py:607: ConvergenceWarning: Maximum Likelihood optimization failed to converge. Check mle_retvals\n",
      "  warnings.warn(\"Maximum Likelihood optimization failed to \"\n"
     ]
    },
    {
     "name": "stdout",
     "output_type": "stream",
     "text": [
      "2013-07-19 00:00:00\r"
     ]
    },
    {
     "name": "stderr",
     "output_type": "stream",
     "text": [
      "C:\\Users\\tcornew\\AppData\\Local\\anaconda3\\Lib\\site-packages\\statsmodels\\base\\model.py:607: ConvergenceWarning: Maximum Likelihood optimization failed to converge. Check mle_retvals\n",
      "  warnings.warn(\"Maximum Likelihood optimization failed to \"\n",
      "C:\\Users\\tcornew\\AppData\\Local\\anaconda3\\Lib\\site-packages\\statsmodels\\base\\model.py:607: ConvergenceWarning: Maximum Likelihood optimization failed to converge. Check mle_retvals\n",
      "  warnings.warn(\"Maximum Likelihood optimization failed to \"\n",
      "C:\\Users\\tcornew\\AppData\\Local\\anaconda3\\Lib\\site-packages\\statsmodels\\base\\model.py:607: ConvergenceWarning: Maximum Likelihood optimization failed to converge. Check mle_retvals\n",
      "  warnings.warn(\"Maximum Likelihood optimization failed to \"\n"
     ]
    },
    {
     "name": "stdout",
     "output_type": "stream",
     "text": [
      "2014-07-12 00:00:00\r"
     ]
    },
    {
     "name": "stderr",
     "output_type": "stream",
     "text": [
      "C:\\Users\\tcornew\\AppData\\Local\\anaconda3\\Lib\\site-packages\\statsmodels\\base\\model.py:607: ConvergenceWarning: Maximum Likelihood optimization failed to converge. Check mle_retvals\n",
      "  warnings.warn(\"Maximum Likelihood optimization failed to \"\n",
      "C:\\Users\\tcornew\\AppData\\Local\\anaconda3\\Lib\\site-packages\\statsmodels\\base\\model.py:607: ConvergenceWarning: Maximum Likelihood optimization failed to converge. Check mle_retvals\n",
      "  warnings.warn(\"Maximum Likelihood optimization failed to \"\n"
     ]
    },
    {
     "name": "stdout",
     "output_type": "stream",
     "text": [
      "2015-04-18 00:00:00\r"
     ]
    },
    {
     "name": "stderr",
     "output_type": "stream",
     "text": [
      "C:\\Users\\tcornew\\AppData\\Local\\anaconda3\\Lib\\site-packages\\statsmodels\\base\\model.py:607: ConvergenceWarning: Maximum Likelihood optimization failed to converge. Check mle_retvals\n",
      "  warnings.warn(\"Maximum Likelihood optimization failed to \"\n"
     ]
    },
    {
     "name": "stdout",
     "output_type": "stream",
     "text": [
      "2015-09-22 00:00:00\r"
     ]
    },
    {
     "name": "stderr",
     "output_type": "stream",
     "text": [
      "C:\\Users\\tcornew\\AppData\\Local\\anaconda3\\Lib\\site-packages\\statsmodels\\base\\model.py:607: ConvergenceWarning: Maximum Likelihood optimization failed to converge. Check mle_retvals\n",
      "  warnings.warn(\"Maximum Likelihood optimization failed to \"\n"
     ]
    },
    {
     "name": "stdout",
     "output_type": "stream",
     "text": [
      "2016-08-03 00:00:00\r"
     ]
    },
    {
     "name": "stderr",
     "output_type": "stream",
     "text": [
      "C:\\Users\\tcornew\\AppData\\Local\\anaconda3\\Lib\\site-packages\\statsmodels\\base\\model.py:607: ConvergenceWarning: Maximum Likelihood optimization failed to converge. Check mle_retvals\n",
      "  warnings.warn(\"Maximum Likelihood optimization failed to \"\n"
     ]
    },
    {
     "name": "stdout",
     "output_type": "stream",
     "text": [
      "2016-08-29 00:00:00\r"
     ]
    },
    {
     "name": "stderr",
     "output_type": "stream",
     "text": [
      "C:\\Users\\tcornew\\AppData\\Local\\anaconda3\\Lib\\site-packages\\statsmodels\\base\\model.py:607: ConvergenceWarning: Maximum Likelihood optimization failed to converge. Check mle_retvals\n",
      "  warnings.warn(\"Maximum Likelihood optimization failed to \"\n"
     ]
    },
    {
     "name": "stdout",
     "output_type": "stream",
     "text": [
      "2018-06-14 00:00:00\r"
     ]
    },
    {
     "name": "stderr",
     "output_type": "stream",
     "text": [
      "C:\\Users\\tcornew\\AppData\\Local\\anaconda3\\Lib\\site-packages\\statsmodels\\base\\model.py:607: ConvergenceWarning: Maximum Likelihood optimization failed to converge. Check mle_retvals\n",
      "  warnings.warn(\"Maximum Likelihood optimization failed to \"\n",
      "C:\\Users\\tcornew\\AppData\\Local\\anaconda3\\Lib\\site-packages\\statsmodels\\base\\model.py:607: ConvergenceWarning: Maximum Likelihood optimization failed to converge. Check mle_retvals\n",
      "  warnings.warn(\"Maximum Likelihood optimization failed to \"\n"
     ]
    },
    {
     "name": "stdout",
     "output_type": "stream",
     "text": [
      "2018-08-13 00:00:00\r"
     ]
    },
    {
     "name": "stderr",
     "output_type": "stream",
     "text": [
      "C:\\Users\\tcornew\\AppData\\Local\\anaconda3\\Lib\\site-packages\\statsmodels\\base\\model.py:607: ConvergenceWarning: Maximum Likelihood optimization failed to converge. Check mle_retvals\n",
      "  warnings.warn(\"Maximum Likelihood optimization failed to \"\n"
     ]
    },
    {
     "name": "stdout",
     "output_type": "stream",
     "text": [
      "2020-12-31 00:00:00\r"
     ]
    }
   ],
   "source": [
    "phi_list = []\n",
    "\n",
    "for index, date in enumerate(df['Date']):\n",
    "    if str(date)[:10] >= '1980-01-01' and str(date)[:10] <= '2020-12-31\t':\n",
    "        start_window = str(df['Date'][index-15])[:10]\n",
    "        end_window = str(df['Date'][index+15])[:10]\n",
    "        print(str(df['Date'][index]), end='\\r')\n",
    "        ts_window = df[(df['Date'] >= start_window) & (df['Date'] <= end_window)]\n",
    "        model = sm.tsa.SARIMAX(ts_window['Value'], order=(1, 0, 0), trend='c')\n",
    "        result = model.fit()\n",
    "        phi_list.append(result.params['ar.L1'])\n",
    "        "
   ]
  },
  {
   "cell_type": "code",
   "execution_count": 19,
   "id": "6acdbf5c-d0fc-404b-8832-9e122b4eac87",
   "metadata": {},
   "outputs": [
    {
     "data": {
      "text/html": [
       "<div>\n",
       "<style scoped>\n",
       "    .dataframe tbody tr th:only-of-type {\n",
       "        vertical-align: middle;\n",
       "    }\n",
       "\n",
       "    .dataframe tbody tr th {\n",
       "        vertical-align: top;\n",
       "    }\n",
       "\n",
       "    .dataframe thead th {\n",
       "        text-align: right;\n",
       "    }\n",
       "</style>\n",
       "<table border=\"1\" class=\"dataframe\">\n",
       "  <thead>\n",
       "    <tr style=\"text-align: right;\">\n",
       "      <th></th>\n",
       "      <th>Date</th>\n",
       "      <th>Value</th>\n",
       "      <th>Year</th>\n",
       "      <th>Phi</th>\n",
       "    </tr>\n",
       "  </thead>\n",
       "  <tbody>\n",
       "    <tr>\n",
       "      <th>0</th>\n",
       "      <td>1980-01-01</td>\n",
       "      <td>-1.3</td>\n",
       "      <td>1980</td>\n",
       "      <td>0.671557</td>\n",
       "    </tr>\n",
       "    <tr>\n",
       "      <th>1</th>\n",
       "      <td>1980-01-02</td>\n",
       "      <td>-1.8</td>\n",
       "      <td>1980</td>\n",
       "      <td>0.645709</td>\n",
       "    </tr>\n",
       "    <tr>\n",
       "      <th>2</th>\n",
       "      <td>1980-01-03</td>\n",
       "      <td>2.4</td>\n",
       "      <td>1980</td>\n",
       "      <td>0.620626</td>\n",
       "    </tr>\n",
       "    <tr>\n",
       "      <th>3</th>\n",
       "      <td>1980-01-04</td>\n",
       "      <td>4.5</td>\n",
       "      <td>1980</td>\n",
       "      <td>0.615656</td>\n",
       "    </tr>\n",
       "    <tr>\n",
       "      <th>4</th>\n",
       "      <td>1980-01-05</td>\n",
       "      <td>4.9</td>\n",
       "      <td>1980</td>\n",
       "      <td>0.596277</td>\n",
       "    </tr>\n",
       "    <tr>\n",
       "      <th>...</th>\n",
       "      <td>...</td>\n",
       "      <td>...</td>\n",
       "      <td>...</td>\n",
       "      <td>...</td>\n",
       "    </tr>\n",
       "    <tr>\n",
       "      <th>14960</th>\n",
       "      <td>2020-12-27</td>\n",
       "      <td>4.5</td>\n",
       "      <td>2020</td>\n",
       "      <td>0.870074</td>\n",
       "    </tr>\n",
       "    <tr>\n",
       "      <th>14961</th>\n",
       "      <td>2020-12-28</td>\n",
       "      <td>1.0</td>\n",
       "      <td>2020</td>\n",
       "      <td>0.864498</td>\n",
       "    </tr>\n",
       "    <tr>\n",
       "      <th>14962</th>\n",
       "      <td>2020-12-29</td>\n",
       "      <td>0.9</td>\n",
       "      <td>2020</td>\n",
       "      <td>0.871426</td>\n",
       "    </tr>\n",
       "    <tr>\n",
       "      <th>14963</th>\n",
       "      <td>2020-12-30</td>\n",
       "      <td>1.0</td>\n",
       "      <td>2020</td>\n",
       "      <td>0.867418</td>\n",
       "    </tr>\n",
       "    <tr>\n",
       "      <th>14964</th>\n",
       "      <td>2020-12-31</td>\n",
       "      <td>-1.3</td>\n",
       "      <td>2020</td>\n",
       "      <td>0.855732</td>\n",
       "    </tr>\n",
       "  </tbody>\n",
       "</table>\n",
       "<p>14965 rows × 4 columns</p>\n",
       "</div>"
      ],
      "text/plain": [
       "            Date  Value  Year       Phi\n",
       "0     1980-01-01   -1.3  1980  0.671557\n",
       "1     1980-01-02   -1.8  1980  0.645709\n",
       "2     1980-01-03    2.4  1980  0.620626\n",
       "3     1980-01-04    4.5  1980  0.615656\n",
       "4     1980-01-05    4.9  1980  0.596277\n",
       "...          ...    ...   ...       ...\n",
       "14960 2020-12-27    4.5  2020  0.870074\n",
       "14961 2020-12-28    1.0  2020  0.864498\n",
       "14962 2020-12-29    0.9  2020  0.871426\n",
       "14963 2020-12-30    1.0  2020  0.867418\n",
       "14964 2020-12-31   -1.3  2020  0.855732\n",
       "\n",
       "[14965 rows x 4 columns]"
      ]
     },
     "execution_count": 19,
     "metadata": {},
     "output_type": "execute_result"
    }
   ],
   "source": [
    "df_1980_2020['Day'] = df_1980_2020['Date'].dt.day\n",
    "df_1980_2020['Month'] = df_1980_2020['Date'].dt.month\n",
    "df_1980_2020 = df_1980_2020[~((df_1980_2020['Month'] == 2) & (df_1980_2020['Day'] == 29))]\n",
    "df_1980_2020.drop(columns=['Day', 'Month'], inplace=True)\n",
    "df_1980_2020.reset_index(drop=True, inplace=True)\n",
    "\n",
    "df_1980_2020['Phi'] = phi_list\n",
    "df_1980_2020"
   ]
  },
  {
   "cell_type": "code",
   "execution_count": 20,
   "id": "77bd1722-8b27-4145-869a-39b268be2ae2",
   "metadata": {},
   "outputs": [
    {
     "data": {
      "text/html": [
       "<div>\n",
       "<style scoped>\n",
       "    .dataframe tbody tr th:only-of-type {\n",
       "        vertical-align: middle;\n",
       "    }\n",
       "\n",
       "    .dataframe tbody tr th {\n",
       "        vertical-align: top;\n",
       "    }\n",
       "\n",
       "    .dataframe thead th {\n",
       "        text-align: right;\n",
       "    }\n",
       "</style>\n",
       "<table border=\"1\" class=\"dataframe\">\n",
       "  <thead>\n",
       "    <tr style=\"text-align: right;\">\n",
       "      <th></th>\n",
       "      <th>Month</th>\n",
       "      <th>Day</th>\n",
       "      <th>Phi</th>\n",
       "    </tr>\n",
       "  </thead>\n",
       "  <tbody>\n",
       "    <tr>\n",
       "      <th>0</th>\n",
       "      <td>1</td>\n",
       "      <td>1</td>\n",
       "      <td>0.742245</td>\n",
       "    </tr>\n",
       "    <tr>\n",
       "      <th>1</th>\n",
       "      <td>1</td>\n",
       "      <td>2</td>\n",
       "      <td>0.739271</td>\n",
       "    </tr>\n",
       "    <tr>\n",
       "      <th>2</th>\n",
       "      <td>1</td>\n",
       "      <td>3</td>\n",
       "      <td>0.737843</td>\n",
       "    </tr>\n",
       "    <tr>\n",
       "      <th>3</th>\n",
       "      <td>1</td>\n",
       "      <td>4</td>\n",
       "      <td>0.751113</td>\n",
       "    </tr>\n",
       "    <tr>\n",
       "      <th>4</th>\n",
       "      <td>1</td>\n",
       "      <td>5</td>\n",
       "      <td>0.754899</td>\n",
       "    </tr>\n",
       "    <tr>\n",
       "      <th>...</th>\n",
       "      <td>...</td>\n",
       "      <td>...</td>\n",
       "      <td>...</td>\n",
       "    </tr>\n",
       "    <tr>\n",
       "      <th>360</th>\n",
       "      <td>12</td>\n",
       "      <td>27</td>\n",
       "      <td>0.749150</td>\n",
       "    </tr>\n",
       "    <tr>\n",
       "      <th>361</th>\n",
       "      <td>12</td>\n",
       "      <td>28</td>\n",
       "      <td>0.744424</td>\n",
       "    </tr>\n",
       "    <tr>\n",
       "      <th>362</th>\n",
       "      <td>12</td>\n",
       "      <td>29</td>\n",
       "      <td>0.742776</td>\n",
       "    </tr>\n",
       "    <tr>\n",
       "      <th>363</th>\n",
       "      <td>12</td>\n",
       "      <td>30</td>\n",
       "      <td>0.738522</td>\n",
       "    </tr>\n",
       "    <tr>\n",
       "      <th>364</th>\n",
       "      <td>12</td>\n",
       "      <td>31</td>\n",
       "      <td>0.735579</td>\n",
       "    </tr>\n",
       "  </tbody>\n",
       "</table>\n",
       "<p>365 rows × 3 columns</p>\n",
       "</div>"
      ],
      "text/plain": [
       "     Month  Day       Phi\n",
       "0        1    1  0.742245\n",
       "1        1    2  0.739271\n",
       "2        1    3  0.737843\n",
       "3        1    4  0.751113\n",
       "4        1    5  0.754899\n",
       "..     ...  ...       ...\n",
       "360     12   27  0.749150\n",
       "361     12   28  0.744424\n",
       "362     12   29  0.742776\n",
       "363     12   30  0.738522\n",
       "364     12   31  0.735579\n",
       "\n",
       "[365 rows x 3 columns]"
      ]
     },
     "execution_count": 20,
     "metadata": {},
     "output_type": "execute_result"
    }
   ],
   "source": [
    "df_1980_2020['Day'] = df_1980_2020['Date'].dt.day\n",
    "df_1980_2020['Month'] = df_1980_2020['Date'].dt.month\n",
    "\n",
    "mean_by_day = df_1980_2020.groupby(['Month', 'Day'])['Phi'].mean().reset_index()\n",
    "mean_by_day"
   ]
  },
  {
   "cell_type": "code",
   "execution_count": 21,
   "id": "394a225c-2950-41b0-b61c-f7e305db5e5e",
   "metadata": {},
   "outputs": [
    {
     "data": {
      "image/png": "[encoded data removed]",
      "text/plain": [
       "<Figure size 800x400 with 1 Axes>"
      ]
     },
     "metadata": {},
     "output_type": "display_data"
    }
   ],
   "source": [
    "plt.figure(figsize=(8, 4))\n",
    "plt.plot(mean_by_day['Phi'])\n",
    "plt.title('Average phi per day')\n",
    "plt.xlabel('Day of the Year')\n",
    "plt.ylabel('Temperature')\n",
    "plt.show()"
   ]
  },
  {
   "cell_type": "code",
   "execution_count": null,
   "id": "bfda3cb9-e637-4b24-ba23-31ec719c1582",
   "metadata": {},
   "outputs": [],
   "source": []
  }
 ],
 "metadata": {
  "kernelspec": {
   "display_name": "Python 3 (ipykernel)",
   "language": "python",
   "name": "python3"
  },
  "language_info": {
   "codemirror_mode": {
    "name": "ipython",
    "version": 3
   },
   "file_extension": ".py",
   "mimetype": "text/x-python",
   "name": "python",
   "nbconvert_exporter": "python",
   "pygments_lexer": "ipython3",
   "version": "3.11.5"
  }
 },
 "nbformat": 4,
 "nbformat_minor": 5
}
